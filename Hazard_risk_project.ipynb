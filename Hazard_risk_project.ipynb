{
  "nbformat": 4,
  "nbformat_minor": 0,
  "metadata": {
    "colab": {
      "provenance": [],
      "authorship_tag": "ABX9TyNwoHpSwqYfTKhMD+k4tf23",
      "include_colab_link": true
    },
    "kernelspec": {
      "name": "python3",
      "display_name": "Python 3"
    },
    "language_info": {
      "name": "python"
    }
  },
  "cells": [
    {
      "cell_type": "markdown",
      "metadata": {
        "id": "view-in-github",
        "colab_type": "text"
      },
      "source": [
        "<a href=\"https://colab.research.google.com/github/harshavardhanbatsala/Project3/blob/main/Hazard_risk_project.ipynb\" target=\"_parent\"><img src=\"https://colab.research.google.com/assets/colab-badge.svg\" alt=\"Open In Colab\"/></a>"
      ]
    },
    {
      "cell_type": "code",
      "source": [
        "import warnings\n",
        "\n",
        "warnings.filterwarnings('ignore')\n",
        "\n",
        "import pandas as pd\n",
        "import numpy as np\n",
        "\n",
        "from sklearn.pipeline import Pipeline,FeatureUnion\n",
        "from sklearn.base import BaseEstimator, TransformerMixin\n"
      ],
      "metadata": {
        "id": "om-W4dQVfVmi"
      },
      "execution_count": 1,
      "outputs": []
    },
    {
      "cell_type": "code",
      "source": [
        "train_file=r'https://raw.githubusercontent.com/harshavardhanbatsala/Project3/main/Hazard_train.csv'\n",
        "test_file=r'https://raw.githubusercontent.com/harshavardhanbatsala/Project3/main/Hazard_test_share.csv'\n",
        "\n",
        "cd_train=pd.read_csv(train_file)\n",
        "cd_test=pd.read_csv(test_file)"
      ],
      "metadata": {
        "id": "BEo_JSYvwwYZ"
      },
      "execution_count": 2,
      "outputs": []
    },
    {
      "cell_type": "code",
      "source": [
        "cd_train"
      ],
      "metadata": {
        "colab": {
          "base_uri": "https://localhost:8080/",
          "height": 483
        },
        "id": "7kERdnliyrXS",
        "outputId": "cca1abe7-85e7-4d2d-98f6-fe25e796bd2c"
      },
      "execution_count": 3,
      "outputs": [
        {
          "output_type": "execute_result",
          "data": {
            "text/plain": [
              "          Id  Hazard  T1_V1  T1_V2  T1_V3 T1_V4 T1_V5 T1_V6 T1_V7 T1_V8  ...  \\\n",
              "0      83642       2     10     23      4     N     K     Y     B     D  ...   \n",
              "1      92530       6      3     18      2     B     H     N     B     B  ...   \n",
              "2      86131       4      5     20      4     B     K     N     B     B  ...   \n",
              "3      88666       1      4      7      5     N     H     N     B     B  ...   \n",
              "4      11122      21     10     21      6     N     C     Y     B     C  ...   \n",
              "...      ...     ...    ...    ...    ...   ...   ...   ...   ...   ...  ...   \n",
              "40794  88951       1     10      4      3     N     C     N     D     B  ...   \n",
              "40795  60262       4      6      7      1     B     A     Y     B     B  ...   \n",
              "40796  13464       4      5      7      5     C     A     N     B     B  ...   \n",
              "40797  70407       1      1      9      2     C     K     N     B     B  ...   \n",
              "40798  47488       1      2      9      6     C     K     N     B     B  ...   \n",
              "\n",
              "      T2_V6  T2_V7 T2_V8 T2_V9  T2_V10  T2_V11 T2_V12 T2_V13 T2_V14  T2_V15  \n",
              "0         2     37     1    11       2       Y      N      E      2       1  \n",
              "1         2     34     1    12       7       Y      N      C      3       3  \n",
              "2         1     40     1    17       4       Y      N      D      1       1  \n",
              "3         2     37     1    11       6       Y      N      D      2       1  \n",
              "4         2     40     1     6       6       N      N      D      5       5  \n",
              "...     ...    ...   ...   ...     ...     ...    ...    ...    ...     ...  \n",
              "40794     2     34     1    16       5       Y      N      C      4       2  \n",
              "40795     2     22     1     1       6       Y      N      E      4       1  \n",
              "40796     1     37     1     3       4       Y      Y      E      1       5  \n",
              "40797     3     22     1    21       4       Y      N      D      1       1  \n",
              "40798     2     22     1    12       6       Y      Y      E      2       1  \n",
              "\n",
              "[40799 rows x 34 columns]"
            ],
            "text/html": [
              "\n",
              "\n",
              "  <div id=\"df-e6985f96-7cfa-44e5-955b-ea4282b175d7\">\n",
              "    <div class=\"colab-df-container\">\n",
              "      <div>\n",
              "<style scoped>\n",
              "    .dataframe tbody tr th:only-of-type {\n",
              "        vertical-align: middle;\n",
              "    }\n",
              "\n",
              "    .dataframe tbody tr th {\n",
              "        vertical-align: top;\n",
              "    }\n",
              "\n",
              "    .dataframe thead th {\n",
              "        text-align: right;\n",
              "    }\n",
              "</style>\n",
              "<table border=\"1\" class=\"dataframe\">\n",
              "  <thead>\n",
              "    <tr style=\"text-align: right;\">\n",
              "      <th></th>\n",
              "      <th>Id</th>\n",
              "      <th>Hazard</th>\n",
              "      <th>T1_V1</th>\n",
              "      <th>T1_V2</th>\n",
              "      <th>T1_V3</th>\n",
              "      <th>T1_V4</th>\n",
              "      <th>T1_V5</th>\n",
              "      <th>T1_V6</th>\n",
              "      <th>T1_V7</th>\n",
              "      <th>T1_V8</th>\n",
              "      <th>...</th>\n",
              "      <th>T2_V6</th>\n",
              "      <th>T2_V7</th>\n",
              "      <th>T2_V8</th>\n",
              "      <th>T2_V9</th>\n",
              "      <th>T2_V10</th>\n",
              "      <th>T2_V11</th>\n",
              "      <th>T2_V12</th>\n",
              "      <th>T2_V13</th>\n",
              "      <th>T2_V14</th>\n",
              "      <th>T2_V15</th>\n",
              "    </tr>\n",
              "  </thead>\n",
              "  <tbody>\n",
              "    <tr>\n",
              "      <th>0</th>\n",
              "      <td>83642</td>\n",
              "      <td>2</td>\n",
              "      <td>10</td>\n",
              "      <td>23</td>\n",
              "      <td>4</td>\n",
              "      <td>N</td>\n",
              "      <td>K</td>\n",
              "      <td>Y</td>\n",
              "      <td>B</td>\n",
              "      <td>D</td>\n",
              "      <td>...</td>\n",
              "      <td>2</td>\n",
              "      <td>37</td>\n",
              "      <td>1</td>\n",
              "      <td>11</td>\n",
              "      <td>2</td>\n",
              "      <td>Y</td>\n",
              "      <td>N</td>\n",
              "      <td>E</td>\n",
              "      <td>2</td>\n",
              "      <td>1</td>\n",
              "    </tr>\n",
              "    <tr>\n",
              "      <th>1</th>\n",
              "      <td>92530</td>\n",
              "      <td>6</td>\n",
              "      <td>3</td>\n",
              "      <td>18</td>\n",
              "      <td>2</td>\n",
              "      <td>B</td>\n",
              "      <td>H</td>\n",
              "      <td>N</td>\n",
              "      <td>B</td>\n",
              "      <td>B</td>\n",
              "      <td>...</td>\n",
              "      <td>2</td>\n",
              "      <td>34</td>\n",
              "      <td>1</td>\n",
              "      <td>12</td>\n",
              "      <td>7</td>\n",
              "      <td>Y</td>\n",
              "      <td>N</td>\n",
              "      <td>C</td>\n",
              "      <td>3</td>\n",
              "      <td>3</td>\n",
              "    </tr>\n",
              "    <tr>\n",
              "      <th>2</th>\n",
              "      <td>86131</td>\n",
              "      <td>4</td>\n",
              "      <td>5</td>\n",
              "      <td>20</td>\n",
              "      <td>4</td>\n",
              "      <td>B</td>\n",
              "      <td>K</td>\n",
              "      <td>N</td>\n",
              "      <td>B</td>\n",
              "      <td>B</td>\n",
              "      <td>...</td>\n",
              "      <td>1</td>\n",
              "      <td>40</td>\n",
              "      <td>1</td>\n",
              "      <td>17</td>\n",
              "      <td>4</td>\n",
              "      <td>Y</td>\n",
              "      <td>N</td>\n",
              "      <td>D</td>\n",
              "      <td>1</td>\n",
              "      <td>1</td>\n",
              "    </tr>\n",
              "    <tr>\n",
              "      <th>3</th>\n",
              "      <td>88666</td>\n",
              "      <td>1</td>\n",
              "      <td>4</td>\n",
              "      <td>7</td>\n",
              "      <td>5</td>\n",
              "      <td>N</td>\n",
              "      <td>H</td>\n",
              "      <td>N</td>\n",
              "      <td>B</td>\n",
              "      <td>B</td>\n",
              "      <td>...</td>\n",
              "      <td>2</td>\n",
              "      <td>37</td>\n",
              "      <td>1</td>\n",
              "      <td>11</td>\n",
              "      <td>6</td>\n",
              "      <td>Y</td>\n",
              "      <td>N</td>\n",
              "      <td>D</td>\n",
              "      <td>2</td>\n",
              "      <td>1</td>\n",
              "    </tr>\n",
              "    <tr>\n",
              "      <th>4</th>\n",
              "      <td>11122</td>\n",
              "      <td>21</td>\n",
              "      <td>10</td>\n",
              "      <td>21</td>\n",
              "      <td>6</td>\n",
              "      <td>N</td>\n",
              "      <td>C</td>\n",
              "      <td>Y</td>\n",
              "      <td>B</td>\n",
              "      <td>C</td>\n",
              "      <td>...</td>\n",
              "      <td>2</td>\n",
              "      <td>40</td>\n",
              "      <td>1</td>\n",
              "      <td>6</td>\n",
              "      <td>6</td>\n",
              "      <td>N</td>\n",
              "      <td>N</td>\n",
              "      <td>D</td>\n",
              "      <td>5</td>\n",
              "      <td>5</td>\n",
              "    </tr>\n",
              "    <tr>\n",
              "      <th>...</th>\n",
              "      <td>...</td>\n",
              "      <td>...</td>\n",
              "      <td>...</td>\n",
              "      <td>...</td>\n",
              "      <td>...</td>\n",
              "      <td>...</td>\n",
              "      <td>...</td>\n",
              "      <td>...</td>\n",
              "      <td>...</td>\n",
              "      <td>...</td>\n",
              "      <td>...</td>\n",
              "      <td>...</td>\n",
              "      <td>...</td>\n",
              "      <td>...</td>\n",
              "      <td>...</td>\n",
              "      <td>...</td>\n",
              "      <td>...</td>\n",
              "      <td>...</td>\n",
              "      <td>...</td>\n",
              "      <td>...</td>\n",
              "      <td>...</td>\n",
              "    </tr>\n",
              "    <tr>\n",
              "      <th>40794</th>\n",
              "      <td>88951</td>\n",
              "      <td>1</td>\n",
              "      <td>10</td>\n",
              "      <td>4</td>\n",
              "      <td>3</td>\n",
              "      <td>N</td>\n",
              "      <td>C</td>\n",
              "      <td>N</td>\n",
              "      <td>D</td>\n",
              "      <td>B</td>\n",
              "      <td>...</td>\n",
              "      <td>2</td>\n",
              "      <td>34</td>\n",
              "      <td>1</td>\n",
              "      <td>16</td>\n",
              "      <td>5</td>\n",
              "      <td>Y</td>\n",
              "      <td>N</td>\n",
              "      <td>C</td>\n",
              "      <td>4</td>\n",
              "      <td>2</td>\n",
              "    </tr>\n",
              "    <tr>\n",
              "      <th>40795</th>\n",
              "      <td>60262</td>\n",
              "      <td>4</td>\n",
              "      <td>6</td>\n",
              "      <td>7</td>\n",
              "      <td>1</td>\n",
              "      <td>B</td>\n",
              "      <td>A</td>\n",
              "      <td>Y</td>\n",
              "      <td>B</td>\n",
              "      <td>B</td>\n",
              "      <td>...</td>\n",
              "      <td>2</td>\n",
              "      <td>22</td>\n",
              "      <td>1</td>\n",
              "      <td>1</td>\n",
              "      <td>6</td>\n",
              "      <td>Y</td>\n",
              "      <td>N</td>\n",
              "      <td>E</td>\n",
              "      <td>4</td>\n",
              "      <td>1</td>\n",
              "    </tr>\n",
              "    <tr>\n",
              "      <th>40796</th>\n",
              "      <td>13464</td>\n",
              "      <td>4</td>\n",
              "      <td>5</td>\n",
              "      <td>7</td>\n",
              "      <td>5</td>\n",
              "      <td>C</td>\n",
              "      <td>A</td>\n",
              "      <td>N</td>\n",
              "      <td>B</td>\n",
              "      <td>B</td>\n",
              "      <td>...</td>\n",
              "      <td>1</td>\n",
              "      <td>37</td>\n",
              "      <td>1</td>\n",
              "      <td>3</td>\n",
              "      <td>4</td>\n",
              "      <td>Y</td>\n",
              "      <td>Y</td>\n",
              "      <td>E</td>\n",
              "      <td>1</td>\n",
              "      <td>5</td>\n",
              "    </tr>\n",
              "    <tr>\n",
              "      <th>40797</th>\n",
              "      <td>70407</td>\n",
              "      <td>1</td>\n",
              "      <td>1</td>\n",
              "      <td>9</td>\n",
              "      <td>2</td>\n",
              "      <td>C</td>\n",
              "      <td>K</td>\n",
              "      <td>N</td>\n",
              "      <td>B</td>\n",
              "      <td>B</td>\n",
              "      <td>...</td>\n",
              "      <td>3</td>\n",
              "      <td>22</td>\n",
              "      <td>1</td>\n",
              "      <td>21</td>\n",
              "      <td>4</td>\n",
              "      <td>Y</td>\n",
              "      <td>N</td>\n",
              "      <td>D</td>\n",
              "      <td>1</td>\n",
              "      <td>1</td>\n",
              "    </tr>\n",
              "    <tr>\n",
              "      <th>40798</th>\n",
              "      <td>47488</td>\n",
              "      <td>1</td>\n",
              "      <td>2</td>\n",
              "      <td>9</td>\n",
              "      <td>6</td>\n",
              "      <td>C</td>\n",
              "      <td>K</td>\n",
              "      <td>N</td>\n",
              "      <td>B</td>\n",
              "      <td>B</td>\n",
              "      <td>...</td>\n",
              "      <td>2</td>\n",
              "      <td>22</td>\n",
              "      <td>1</td>\n",
              "      <td>12</td>\n",
              "      <td>6</td>\n",
              "      <td>Y</td>\n",
              "      <td>Y</td>\n",
              "      <td>E</td>\n",
              "      <td>2</td>\n",
              "      <td>1</td>\n",
              "    </tr>\n",
              "  </tbody>\n",
              "</table>\n",
              "<p>40799 rows × 34 columns</p>\n",
              "</div>\n",
              "      <button class=\"colab-df-convert\" onclick=\"convertToInteractive('df-e6985f96-7cfa-44e5-955b-ea4282b175d7')\"\n",
              "              title=\"Convert this dataframe to an interactive table.\"\n",
              "              style=\"display:none;\">\n",
              "\n",
              "  <svg xmlns=\"http://www.w3.org/2000/svg\" height=\"24px\"viewBox=\"0 0 24 24\"\n",
              "       width=\"24px\">\n",
              "    <path d=\"M0 0h24v24H0V0z\" fill=\"none\"/>\n",
              "    <path d=\"M18.56 5.44l.94 2.06.94-2.06 2.06-.94-2.06-.94-.94-2.06-.94 2.06-2.06.94zm-11 1L8.5 8.5l.94-2.06 2.06-.94-2.06-.94L8.5 2.5l-.94 2.06-2.06.94zm10 10l.94 2.06.94-2.06 2.06-.94-2.06-.94-.94-2.06-.94 2.06-2.06.94z\"/><path d=\"M17.41 7.96l-1.37-1.37c-.4-.4-.92-.59-1.43-.59-.52 0-1.04.2-1.43.59L10.3 9.45l-7.72 7.72c-.78.78-.78 2.05 0 2.83L4 21.41c.39.39.9.59 1.41.59.51 0 1.02-.2 1.41-.59l7.78-7.78 2.81-2.81c.8-.78.8-2.07 0-2.86zM5.41 20L4 18.59l7.72-7.72 1.47 1.35L5.41 20z\"/>\n",
              "  </svg>\n",
              "      </button>\n",
              "\n",
              "\n",
              "\n",
              "    <div id=\"df-592abb9b-7069-4c94-a2e9-e0f8f04e3eaa\">\n",
              "      <button class=\"colab-df-quickchart\" onclick=\"quickchart('df-592abb9b-7069-4c94-a2e9-e0f8f04e3eaa')\"\n",
              "              title=\"Suggest charts.\"\n",
              "              style=\"display:none;\">\n",
              "\n",
              "<svg xmlns=\"http://www.w3.org/2000/svg\" height=\"24px\"viewBox=\"0 0 24 24\"\n",
              "     width=\"24px\">\n",
              "    <g>\n",
              "        <path d=\"M19 3H5c-1.1 0-2 .9-2 2v14c0 1.1.9 2 2 2h14c1.1 0 2-.9 2-2V5c0-1.1-.9-2-2-2zM9 17H7v-7h2v7zm4 0h-2V7h2v10zm4 0h-2v-4h2v4z\"/>\n",
              "    </g>\n",
              "</svg>\n",
              "      </button>\n",
              "    </div>\n",
              "\n",
              "<style>\n",
              "  .colab-df-quickchart {\n",
              "    background-color: #E8F0FE;\n",
              "    border: none;\n",
              "    border-radius: 50%;\n",
              "    cursor: pointer;\n",
              "    display: none;\n",
              "    fill: #1967D2;\n",
              "    height: 32px;\n",
              "    padding: 0 0 0 0;\n",
              "    width: 32px;\n",
              "  }\n",
              "\n",
              "  .colab-df-quickchart:hover {\n",
              "    background-color: #E2EBFA;\n",
              "    box-shadow: 0px 1px 2px rgba(60, 64, 67, 0.3), 0px 1px 3px 1px rgba(60, 64, 67, 0.15);\n",
              "    fill: #174EA6;\n",
              "  }\n",
              "\n",
              "  [theme=dark] .colab-df-quickchart {\n",
              "    background-color: #3B4455;\n",
              "    fill: #D2E3FC;\n",
              "  }\n",
              "\n",
              "  [theme=dark] .colab-df-quickchart:hover {\n",
              "    background-color: #434B5C;\n",
              "    box-shadow: 0px 1px 3px 1px rgba(0, 0, 0, 0.15);\n",
              "    filter: drop-shadow(0px 1px 2px rgba(0, 0, 0, 0.3));\n",
              "    fill: #FFFFFF;\n",
              "  }\n",
              "</style>\n",
              "\n",
              "    <script>\n",
              "      async function quickchart(key) {\n",
              "        const containerElement = document.querySelector('#' + key);\n",
              "        const charts = await google.colab.kernel.invokeFunction(\n",
              "            'suggestCharts', [key], {});\n",
              "      }\n",
              "    </script>\n",
              "\n",
              "      <script>\n",
              "\n",
              "function displayQuickchartButton(domScope) {\n",
              "  let quickchartButtonEl =\n",
              "    domScope.querySelector('#df-592abb9b-7069-4c94-a2e9-e0f8f04e3eaa button.colab-df-quickchart');\n",
              "  quickchartButtonEl.style.display =\n",
              "    google.colab.kernel.accessAllowed ? 'block' : 'none';\n",
              "}\n",
              "\n",
              "        displayQuickchartButton(document);\n",
              "      </script>\n",
              "      <style>\n",
              "    .colab-df-container {\n",
              "      display:flex;\n",
              "      flex-wrap:wrap;\n",
              "      gap: 12px;\n",
              "    }\n",
              "\n",
              "    .colab-df-convert {\n",
              "      background-color: #E8F0FE;\n",
              "      border: none;\n",
              "      border-radius: 50%;\n",
              "      cursor: pointer;\n",
              "      display: none;\n",
              "      fill: #1967D2;\n",
              "      height: 32px;\n",
              "      padding: 0 0 0 0;\n",
              "      width: 32px;\n",
              "    }\n",
              "\n",
              "    .colab-df-convert:hover {\n",
              "      background-color: #E2EBFA;\n",
              "      box-shadow: 0px 1px 2px rgba(60, 64, 67, 0.3), 0px 1px 3px 1px rgba(60, 64, 67, 0.15);\n",
              "      fill: #174EA6;\n",
              "    }\n",
              "\n",
              "    [theme=dark] .colab-df-convert {\n",
              "      background-color: #3B4455;\n",
              "      fill: #D2E3FC;\n",
              "    }\n",
              "\n",
              "    [theme=dark] .colab-df-convert:hover {\n",
              "      background-color: #434B5C;\n",
              "      box-shadow: 0px 1px 3px 1px rgba(0, 0, 0, 0.15);\n",
              "      filter: drop-shadow(0px 1px 2px rgba(0, 0, 0, 0.3));\n",
              "      fill: #FFFFFF;\n",
              "    }\n",
              "  </style>\n",
              "\n",
              "      <script>\n",
              "        const buttonEl =\n",
              "          document.querySelector('#df-e6985f96-7cfa-44e5-955b-ea4282b175d7 button.colab-df-convert');\n",
              "        buttonEl.style.display =\n",
              "          google.colab.kernel.accessAllowed ? 'block' : 'none';\n",
              "\n",
              "        async function convertToInteractive(key) {\n",
              "          const element = document.querySelector('#df-e6985f96-7cfa-44e5-955b-ea4282b175d7');\n",
              "          const dataTable =\n",
              "            await google.colab.kernel.invokeFunction('convertToInteractive',\n",
              "                                                     [key], {});\n",
              "          if (!dataTable) return;\n",
              "\n",
              "          const docLinkHtml = 'Like what you see? Visit the ' +\n",
              "            '<a target=\"_blank\" href=https://colab.research.google.com/notebooks/data_table.ipynb>data table notebook</a>'\n",
              "            + ' to learn more about interactive tables.';\n",
              "          element.innerHTML = '';\n",
              "          dataTable['output_type'] = 'display_data';\n",
              "          await google.colab.output.renderOutput(dataTable, element);\n",
              "          const docLink = document.createElement('div');\n",
              "          docLink.innerHTML = docLinkHtml;\n",
              "          element.appendChild(docLink);\n",
              "        }\n",
              "      </script>\n",
              "    </div>\n",
              "  </div>\n"
            ]
          },
          "metadata": {},
          "execution_count": 3
        }
      ]
    },
    {
      "cell_type": "code",
      "source": [
        "cd_train['T1_V5'].mode"
      ],
      "metadata": {
        "id": "y_tXVmO5sauL",
        "outputId": "66016c44-952f-4960-c30b-01f826ceeb89",
        "colab": {
          "base_uri": "https://localhost:8080/"
        }
      },
      "execution_count": 4,
      "outputs": [
        {
          "output_type": "execute_result",
          "data": {
            "text/plain": [
              "<bound method Series.mode of 0        K\n",
              "1        H\n",
              "2        K\n",
              "3        H\n",
              "4        C\n",
              "        ..\n",
              "40794    C\n",
              "40795    A\n",
              "40796    A\n",
              "40797    K\n",
              "40798    K\n",
              "Name: T1_V5, Length: 40799, dtype: object>"
            ]
          },
          "metadata": {},
          "execution_count": 4
        }
      ]
    },
    {
      "cell_type": "code",
      "source": [
        "cd_train[['T2_V13','Hazard']].groupby('T2_V13').median()"
      ],
      "metadata": {
        "colab": {
          "base_uri": "https://localhost:8080/",
          "height": 235
        },
        "id": "zfzqgfgVy3lG",
        "outputId": "6bd0fbed-e091-49a4-e267-11c2335c67d0"
      },
      "execution_count": 5,
      "outputs": [
        {
          "output_type": "execute_result",
          "data": {
            "text/plain": [
              "        Hazard\n",
              "T2_V13        \n",
              "A          2.0\n",
              "B          4.0\n",
              "C          3.0\n",
              "D          3.0\n",
              "E          2.0"
            ],
            "text/html": [
              "\n",
              "\n",
              "  <div id=\"df-f006a4c4-de30-4adb-96cc-66c25f35c465\">\n",
              "    <div class=\"colab-df-container\">\n",
              "      <div>\n",
              "<style scoped>\n",
              "    .dataframe tbody tr th:only-of-type {\n",
              "        vertical-align: middle;\n",
              "    }\n",
              "\n",
              "    .dataframe tbody tr th {\n",
              "        vertical-align: top;\n",
              "    }\n",
              "\n",
              "    .dataframe thead th {\n",
              "        text-align: right;\n",
              "    }\n",
              "</style>\n",
              "<table border=\"1\" class=\"dataframe\">\n",
              "  <thead>\n",
              "    <tr style=\"text-align: right;\">\n",
              "      <th></th>\n",
              "      <th>Hazard</th>\n",
              "    </tr>\n",
              "    <tr>\n",
              "      <th>T2_V13</th>\n",
              "      <th></th>\n",
              "    </tr>\n",
              "  </thead>\n",
              "  <tbody>\n",
              "    <tr>\n",
              "      <th>A</th>\n",
              "      <td>2.0</td>\n",
              "    </tr>\n",
              "    <tr>\n",
              "      <th>B</th>\n",
              "      <td>4.0</td>\n",
              "    </tr>\n",
              "    <tr>\n",
              "      <th>C</th>\n",
              "      <td>3.0</td>\n",
              "    </tr>\n",
              "    <tr>\n",
              "      <th>D</th>\n",
              "      <td>3.0</td>\n",
              "    </tr>\n",
              "    <tr>\n",
              "      <th>E</th>\n",
              "      <td>2.0</td>\n",
              "    </tr>\n",
              "  </tbody>\n",
              "</table>\n",
              "</div>\n",
              "      <button class=\"colab-df-convert\" onclick=\"convertToInteractive('df-f006a4c4-de30-4adb-96cc-66c25f35c465')\"\n",
              "              title=\"Convert this dataframe to an interactive table.\"\n",
              "              style=\"display:none;\">\n",
              "\n",
              "  <svg xmlns=\"http://www.w3.org/2000/svg\" height=\"24px\"viewBox=\"0 0 24 24\"\n",
              "       width=\"24px\">\n",
              "    <path d=\"M0 0h24v24H0V0z\" fill=\"none\"/>\n",
              "    <path d=\"M18.56 5.44l.94 2.06.94-2.06 2.06-.94-2.06-.94-.94-2.06-.94 2.06-2.06.94zm-11 1L8.5 8.5l.94-2.06 2.06-.94-2.06-.94L8.5 2.5l-.94 2.06-2.06.94zm10 10l.94 2.06.94-2.06 2.06-.94-2.06-.94-.94-2.06-.94 2.06-2.06.94z\"/><path d=\"M17.41 7.96l-1.37-1.37c-.4-.4-.92-.59-1.43-.59-.52 0-1.04.2-1.43.59L10.3 9.45l-7.72 7.72c-.78.78-.78 2.05 0 2.83L4 21.41c.39.39.9.59 1.41.59.51 0 1.02-.2 1.41-.59l7.78-7.78 2.81-2.81c.8-.78.8-2.07 0-2.86zM5.41 20L4 18.59l7.72-7.72 1.47 1.35L5.41 20z\"/>\n",
              "  </svg>\n",
              "      </button>\n",
              "\n",
              "\n",
              "\n",
              "    <div id=\"df-5defd5d2-c99d-4811-9ab7-e26240b40138\">\n",
              "      <button class=\"colab-df-quickchart\" onclick=\"quickchart('df-5defd5d2-c99d-4811-9ab7-e26240b40138')\"\n",
              "              title=\"Suggest charts.\"\n",
              "              style=\"display:none;\">\n",
              "\n",
              "<svg xmlns=\"http://www.w3.org/2000/svg\" height=\"24px\"viewBox=\"0 0 24 24\"\n",
              "     width=\"24px\">\n",
              "    <g>\n",
              "        <path d=\"M19 3H5c-1.1 0-2 .9-2 2v14c0 1.1.9 2 2 2h14c1.1 0 2-.9 2-2V5c0-1.1-.9-2-2-2zM9 17H7v-7h2v7zm4 0h-2V7h2v10zm4 0h-2v-4h2v4z\"/>\n",
              "    </g>\n",
              "</svg>\n",
              "      </button>\n",
              "    </div>\n",
              "\n",
              "<style>\n",
              "  .colab-df-quickchart {\n",
              "    background-color: #E8F0FE;\n",
              "    border: none;\n",
              "    border-radius: 50%;\n",
              "    cursor: pointer;\n",
              "    display: none;\n",
              "    fill: #1967D2;\n",
              "    height: 32px;\n",
              "    padding: 0 0 0 0;\n",
              "    width: 32px;\n",
              "  }\n",
              "\n",
              "  .colab-df-quickchart:hover {\n",
              "    background-color: #E2EBFA;\n",
              "    box-shadow: 0px 1px 2px rgba(60, 64, 67, 0.3), 0px 1px 3px 1px rgba(60, 64, 67, 0.15);\n",
              "    fill: #174EA6;\n",
              "  }\n",
              "\n",
              "  [theme=dark] .colab-df-quickchart {\n",
              "    background-color: #3B4455;\n",
              "    fill: #D2E3FC;\n",
              "  }\n",
              "\n",
              "  [theme=dark] .colab-df-quickchart:hover {\n",
              "    background-color: #434B5C;\n",
              "    box-shadow: 0px 1px 3px 1px rgba(0, 0, 0, 0.15);\n",
              "    filter: drop-shadow(0px 1px 2px rgba(0, 0, 0, 0.3));\n",
              "    fill: #FFFFFF;\n",
              "  }\n",
              "</style>\n",
              "\n",
              "    <script>\n",
              "      async function quickchart(key) {\n",
              "        const containerElement = document.querySelector('#' + key);\n",
              "        const charts = await google.colab.kernel.invokeFunction(\n",
              "            'suggestCharts', [key], {});\n",
              "      }\n",
              "    </script>\n",
              "\n",
              "      <script>\n",
              "\n",
              "function displayQuickchartButton(domScope) {\n",
              "  let quickchartButtonEl =\n",
              "    domScope.querySelector('#df-5defd5d2-c99d-4811-9ab7-e26240b40138 button.colab-df-quickchart');\n",
              "  quickchartButtonEl.style.display =\n",
              "    google.colab.kernel.accessAllowed ? 'block' : 'none';\n",
              "}\n",
              "\n",
              "        displayQuickchartButton(document);\n",
              "      </script>\n",
              "      <style>\n",
              "    .colab-df-container {\n",
              "      display:flex;\n",
              "      flex-wrap:wrap;\n",
              "      gap: 12px;\n",
              "    }\n",
              "\n",
              "    .colab-df-convert {\n",
              "      background-color: #E8F0FE;\n",
              "      border: none;\n",
              "      border-radius: 50%;\n",
              "      cursor: pointer;\n",
              "      display: none;\n",
              "      fill: #1967D2;\n",
              "      height: 32px;\n",
              "      padding: 0 0 0 0;\n",
              "      width: 32px;\n",
              "    }\n",
              "\n",
              "    .colab-df-convert:hover {\n",
              "      background-color: #E2EBFA;\n",
              "      box-shadow: 0px 1px 2px rgba(60, 64, 67, 0.3), 0px 1px 3px 1px rgba(60, 64, 67, 0.15);\n",
              "      fill: #174EA6;\n",
              "    }\n",
              "\n",
              "    [theme=dark] .colab-df-convert {\n",
              "      background-color: #3B4455;\n",
              "      fill: #D2E3FC;\n",
              "    }\n",
              "\n",
              "    [theme=dark] .colab-df-convert:hover {\n",
              "      background-color: #434B5C;\n",
              "      box-shadow: 0px 1px 3px 1px rgba(0, 0, 0, 0.15);\n",
              "      filter: drop-shadow(0px 1px 2px rgba(0, 0, 0, 0.3));\n",
              "      fill: #FFFFFF;\n",
              "    }\n",
              "  </style>\n",
              "\n",
              "      <script>\n",
              "        const buttonEl =\n",
              "          document.querySelector('#df-f006a4c4-de30-4adb-96cc-66c25f35c465 button.colab-df-convert');\n",
              "        buttonEl.style.display =\n",
              "          google.colab.kernel.accessAllowed ? 'block' : 'none';\n",
              "\n",
              "        async function convertToInteractive(key) {\n",
              "          const element = document.querySelector('#df-f006a4c4-de30-4adb-96cc-66c25f35c465');\n",
              "          const dataTable =\n",
              "            await google.colab.kernel.invokeFunction('convertToInteractive',\n",
              "                                                     [key], {});\n",
              "          if (!dataTable) return;\n",
              "\n",
              "          const docLinkHtml = 'Like what you see? Visit the ' +\n",
              "            '<a target=\"_blank\" href=https://colab.research.google.com/notebooks/data_table.ipynb>data table notebook</a>'\n",
              "            + ' to learn more about interactive tables.';\n",
              "          element.innerHTML = '';\n",
              "          dataTable['output_type'] = 'display_data';\n",
              "          await google.colab.output.renderOutput(dataTable, element);\n",
              "          const docLink = document.createElement('div');\n",
              "          docLink.innerHTML = docLinkHtml;\n",
              "          element.appendChild(docLink);\n",
              "        }\n",
              "      </script>\n",
              "    </div>\n",
              "  </div>\n"
            ]
          },
          "metadata": {},
          "execution_count": 5
        }
      ]
    },
    {
      "cell_type": "code",
      "source": [
        "cd_train['T2_V13'].nunique()"
      ],
      "metadata": {
        "id": "iBLTNwz0s5QI",
        "outputId": "c96e2d1d-5ac7-40af-879b-a1a2cecb5fe9",
        "colab": {
          "base_uri": "https://localhost:8080/"
        }
      },
      "execution_count": 6,
      "outputs": [
        {
          "output_type": "execute_result",
          "data": {
            "text/plain": [
              "5"
            ]
          },
          "metadata": {},
          "execution_count": 6
        }
      ]
    },
    {
      "cell_type": "code",
      "source": [
        "cd_train['T1_V11'].value_counts()"
      ],
      "metadata": {
        "id": "aSircdQJzpb4",
        "outputId": "993baba9-97ca-4d66-f0f1-94b0459845fe",
        "colab": {
          "base_uri": "https://localhost:8080/"
        }
      },
      "execution_count": 7,
      "outputs": [
        {
          "output_type": "execute_result",
          "data": {
            "text/plain": [
              "B    13694\n",
              "H    12313\n",
              "L     5590\n",
              "J     4961\n",
              "A     1257\n",
              "I     1073\n",
              "F      427\n",
              "M      417\n",
              "E      352\n",
              "N      333\n",
              "D      200\n",
              "K      182\n",
              "Name: T1_V11, dtype: int64"
            ]
          },
          "metadata": {},
          "execution_count": 7
        }
      ]
    },
    {
      "cell_type": "code",
      "source": [
        "cd_train.nunique()"
      ],
      "metadata": {
        "colab": {
          "base_uri": "https://localhost:8080/"
        },
        "id": "VyJgUQexzGKb",
        "outputId": "d11e2e55-7557-4778-dd1c-1ffaecce4390"
      },
      "execution_count": 8,
      "outputs": [
        {
          "output_type": "execute_result",
          "data": {
            "text/plain": [
              "Id        40799\n",
              "Hazard       49\n",
              "T1_V1        19\n",
              "T1_V2        24\n",
              "T1_V3         9\n",
              "T1_V4         8\n",
              "T1_V5        10\n",
              "T1_V6         2\n",
              "T1_V7         4\n",
              "T1_V8         4\n",
              "T1_V9         6\n",
              "T1_V10        5\n",
              "T1_V11       12\n",
              "T1_V12        4\n",
              "T1_V13        4\n",
              "T1_V14        5\n",
              "T1_V15        8\n",
              "T1_V16       18\n",
              "T1_V17        2\n",
              "T2_V1       100\n",
              "T2_V2        39\n",
              "T2_V3         2\n",
              "T2_V4        22\n",
              "T2_V5         6\n",
              "T2_V6         7\n",
              "T2_V7         7\n",
              "T2_V8         3\n",
              "T2_V9        25\n",
              "T2_V10        7\n",
              "T2_V11        2\n",
              "T2_V12        2\n",
              "T2_V13        5\n",
              "T2_V14        7\n",
              "T2_V15       12\n",
              "dtype: int64"
            ]
          },
          "metadata": {},
          "execution_count": 8
        }
      ]
    },
    {
      "cell_type": "code",
      "source": [
        "cd_train['Hazard'].describe()"
      ],
      "metadata": {
        "id": "04z9eoNX0sPH",
        "outputId": "4738243b-d179-4eb5-8c66-1405ac85413d",
        "colab": {
          "base_uri": "https://localhost:8080/"
        }
      },
      "execution_count": 9,
      "outputs": [
        {
          "output_type": "execute_result",
          "data": {
            "text/plain": [
              "count    40799.000000\n",
              "mean         4.009584\n",
              "std          4.007785\n",
              "min          1.000000\n",
              "25%          1.000000\n",
              "50%          3.000000\n",
              "75%          5.000000\n",
              "max         69.000000\n",
              "Name: Hazard, dtype: float64"
            ]
          },
          "metadata": {},
          "execution_count": 9
        }
      ]
    },
    {
      "cell_type": "code",
      "source": [
        "cd_test.head()"
      ],
      "metadata": {
        "id": "PFuZtH6T1WjX",
        "colab": {
          "base_uri": "https://localhost:8080/",
          "height": 297
        },
        "outputId": "a0b0466c-f7ea-4dbc-8ba1-a20fdfb8dc26"
      },
      "execution_count": 10,
      "outputs": [
        {
          "output_type": "execute_result",
          "data": {
            "text/plain": [
              "       Id  T1_V1  T1_V2  T1_V3 T1_V4 T1_V5 T1_V6 T1_V7 T1_V8 T1_V9  ...  \\\n",
              "0   67943      9     18      2     N     B     Y     B     C     D  ...   \n",
              "1   38287     12     20      5     N     C     Y     D     B     D  ...   \n",
              "2   51951     14     18      1     N     K     Y     B     D     E  ...   \n",
              "3   40476     19     16      1     W     H     Y     B     B     D  ...   \n",
              "4  101190     12     21      2     B     K     Y     B     B     E  ...   \n",
              "\n",
              "   T2_V6 T2_V7 T2_V8  T2_V9  T2_V10 T2_V11 T2_V12 T2_V13  T2_V14  T2_V15  \n",
              "0      2    34     1     14       4      Y      N      E       3       3  \n",
              "1      1    40     1      9       3      Y      N      E       1       1  \n",
              "2      2    25     1      1       4      Y      N      E       2       1  \n",
              "3      2    25     1      1       7      Y      N      D       2      11  \n",
              "4      2    22     1     20       6      Y      N      C       2       1  \n",
              "\n",
              "[5 rows x 33 columns]"
            ],
            "text/html": [
              "\n",
              "\n",
              "  <div id=\"df-a602e34f-23b0-4d27-8dd8-c37cb0420b78\">\n",
              "    <div class=\"colab-df-container\">\n",
              "      <div>\n",
              "<style scoped>\n",
              "    .dataframe tbody tr th:only-of-type {\n",
              "        vertical-align: middle;\n",
              "    }\n",
              "\n",
              "    .dataframe tbody tr th {\n",
              "        vertical-align: top;\n",
              "    }\n",
              "\n",
              "    .dataframe thead th {\n",
              "        text-align: right;\n",
              "    }\n",
              "</style>\n",
              "<table border=\"1\" class=\"dataframe\">\n",
              "  <thead>\n",
              "    <tr style=\"text-align: right;\">\n",
              "      <th></th>\n",
              "      <th>Id</th>\n",
              "      <th>T1_V1</th>\n",
              "      <th>T1_V2</th>\n",
              "      <th>T1_V3</th>\n",
              "      <th>T1_V4</th>\n",
              "      <th>T1_V5</th>\n",
              "      <th>T1_V6</th>\n",
              "      <th>T1_V7</th>\n",
              "      <th>T1_V8</th>\n",
              "      <th>T1_V9</th>\n",
              "      <th>...</th>\n",
              "      <th>T2_V6</th>\n",
              "      <th>T2_V7</th>\n",
              "      <th>T2_V8</th>\n",
              "      <th>T2_V9</th>\n",
              "      <th>T2_V10</th>\n",
              "      <th>T2_V11</th>\n",
              "      <th>T2_V12</th>\n",
              "      <th>T2_V13</th>\n",
              "      <th>T2_V14</th>\n",
              "      <th>T2_V15</th>\n",
              "    </tr>\n",
              "  </thead>\n",
              "  <tbody>\n",
              "    <tr>\n",
              "      <th>0</th>\n",
              "      <td>67943</td>\n",
              "      <td>9</td>\n",
              "      <td>18</td>\n",
              "      <td>2</td>\n",
              "      <td>N</td>\n",
              "      <td>B</td>\n",
              "      <td>Y</td>\n",
              "      <td>B</td>\n",
              "      <td>C</td>\n",
              "      <td>D</td>\n",
              "      <td>...</td>\n",
              "      <td>2</td>\n",
              "      <td>34</td>\n",
              "      <td>1</td>\n",
              "      <td>14</td>\n",
              "      <td>4</td>\n",
              "      <td>Y</td>\n",
              "      <td>N</td>\n",
              "      <td>E</td>\n",
              "      <td>3</td>\n",
              "      <td>3</td>\n",
              "    </tr>\n",
              "    <tr>\n",
              "      <th>1</th>\n",
              "      <td>38287</td>\n",
              "      <td>12</td>\n",
              "      <td>20</td>\n",
              "      <td>5</td>\n",
              "      <td>N</td>\n",
              "      <td>C</td>\n",
              "      <td>Y</td>\n",
              "      <td>D</td>\n",
              "      <td>B</td>\n",
              "      <td>D</td>\n",
              "      <td>...</td>\n",
              "      <td>1</td>\n",
              "      <td>40</td>\n",
              "      <td>1</td>\n",
              "      <td>9</td>\n",
              "      <td>3</td>\n",
              "      <td>Y</td>\n",
              "      <td>N</td>\n",
              "      <td>E</td>\n",
              "      <td>1</td>\n",
              "      <td>1</td>\n",
              "    </tr>\n",
              "    <tr>\n",
              "      <th>2</th>\n",
              "      <td>51951</td>\n",
              "      <td>14</td>\n",
              "      <td>18</td>\n",
              "      <td>1</td>\n",
              "      <td>N</td>\n",
              "      <td>K</td>\n",
              "      <td>Y</td>\n",
              "      <td>B</td>\n",
              "      <td>D</td>\n",
              "      <td>E</td>\n",
              "      <td>...</td>\n",
              "      <td>2</td>\n",
              "      <td>25</td>\n",
              "      <td>1</td>\n",
              "      <td>1</td>\n",
              "      <td>4</td>\n",
              "      <td>Y</td>\n",
              "      <td>N</td>\n",
              "      <td>E</td>\n",
              "      <td>2</td>\n",
              "      <td>1</td>\n",
              "    </tr>\n",
              "    <tr>\n",
              "      <th>3</th>\n",
              "      <td>40476</td>\n",
              "      <td>19</td>\n",
              "      <td>16</td>\n",
              "      <td>1</td>\n",
              "      <td>W</td>\n",
              "      <td>H</td>\n",
              "      <td>Y</td>\n",
              "      <td>B</td>\n",
              "      <td>B</td>\n",
              "      <td>D</td>\n",
              "      <td>...</td>\n",
              "      <td>2</td>\n",
              "      <td>25</td>\n",
              "      <td>1</td>\n",
              "      <td>1</td>\n",
              "      <td>7</td>\n",
              "      <td>Y</td>\n",
              "      <td>N</td>\n",
              "      <td>D</td>\n",
              "      <td>2</td>\n",
              "      <td>11</td>\n",
              "    </tr>\n",
              "    <tr>\n",
              "      <th>4</th>\n",
              "      <td>101190</td>\n",
              "      <td>12</td>\n",
              "      <td>21</td>\n",
              "      <td>2</td>\n",
              "      <td>B</td>\n",
              "      <td>K</td>\n",
              "      <td>Y</td>\n",
              "      <td>B</td>\n",
              "      <td>B</td>\n",
              "      <td>E</td>\n",
              "      <td>...</td>\n",
              "      <td>2</td>\n",
              "      <td>22</td>\n",
              "      <td>1</td>\n",
              "      <td>20</td>\n",
              "      <td>6</td>\n",
              "      <td>Y</td>\n",
              "      <td>N</td>\n",
              "      <td>C</td>\n",
              "      <td>2</td>\n",
              "      <td>1</td>\n",
              "    </tr>\n",
              "  </tbody>\n",
              "</table>\n",
              "<p>5 rows × 33 columns</p>\n",
              "</div>\n",
              "      <button class=\"colab-df-convert\" onclick=\"convertToInteractive('df-a602e34f-23b0-4d27-8dd8-c37cb0420b78')\"\n",
              "              title=\"Convert this dataframe to an interactive table.\"\n",
              "              style=\"display:none;\">\n",
              "\n",
              "  <svg xmlns=\"http://www.w3.org/2000/svg\" height=\"24px\"viewBox=\"0 0 24 24\"\n",
              "       width=\"24px\">\n",
              "    <path d=\"M0 0h24v24H0V0z\" fill=\"none\"/>\n",
              "    <path d=\"M18.56 5.44l.94 2.06.94-2.06 2.06-.94-2.06-.94-.94-2.06-.94 2.06-2.06.94zm-11 1L8.5 8.5l.94-2.06 2.06-.94-2.06-.94L8.5 2.5l-.94 2.06-2.06.94zm10 10l.94 2.06.94-2.06 2.06-.94-2.06-.94-.94-2.06-.94 2.06-2.06.94z\"/><path d=\"M17.41 7.96l-1.37-1.37c-.4-.4-.92-.59-1.43-.59-.52 0-1.04.2-1.43.59L10.3 9.45l-7.72 7.72c-.78.78-.78 2.05 0 2.83L4 21.41c.39.39.9.59 1.41.59.51 0 1.02-.2 1.41-.59l7.78-7.78 2.81-2.81c.8-.78.8-2.07 0-2.86zM5.41 20L4 18.59l7.72-7.72 1.47 1.35L5.41 20z\"/>\n",
              "  </svg>\n",
              "      </button>\n",
              "\n",
              "\n",
              "\n",
              "    <div id=\"df-cb709dc4-4a50-4993-8f84-09cc2501f865\">\n",
              "      <button class=\"colab-df-quickchart\" onclick=\"quickchart('df-cb709dc4-4a50-4993-8f84-09cc2501f865')\"\n",
              "              title=\"Suggest charts.\"\n",
              "              style=\"display:none;\">\n",
              "\n",
              "<svg xmlns=\"http://www.w3.org/2000/svg\" height=\"24px\"viewBox=\"0 0 24 24\"\n",
              "     width=\"24px\">\n",
              "    <g>\n",
              "        <path d=\"M19 3H5c-1.1 0-2 .9-2 2v14c0 1.1.9 2 2 2h14c1.1 0 2-.9 2-2V5c0-1.1-.9-2-2-2zM9 17H7v-7h2v7zm4 0h-2V7h2v10zm4 0h-2v-4h2v4z\"/>\n",
              "    </g>\n",
              "</svg>\n",
              "      </button>\n",
              "    </div>\n",
              "\n",
              "<style>\n",
              "  .colab-df-quickchart {\n",
              "    background-color: #E8F0FE;\n",
              "    border: none;\n",
              "    border-radius: 50%;\n",
              "    cursor: pointer;\n",
              "    display: none;\n",
              "    fill: #1967D2;\n",
              "    height: 32px;\n",
              "    padding: 0 0 0 0;\n",
              "    width: 32px;\n",
              "  }\n",
              "\n",
              "  .colab-df-quickchart:hover {\n",
              "    background-color: #E2EBFA;\n",
              "    box-shadow: 0px 1px 2px rgba(60, 64, 67, 0.3), 0px 1px 3px 1px rgba(60, 64, 67, 0.15);\n",
              "    fill: #174EA6;\n",
              "  }\n",
              "\n",
              "  [theme=dark] .colab-df-quickchart {\n",
              "    background-color: #3B4455;\n",
              "    fill: #D2E3FC;\n",
              "  }\n",
              "\n",
              "  [theme=dark] .colab-df-quickchart:hover {\n",
              "    background-color: #434B5C;\n",
              "    box-shadow: 0px 1px 3px 1px rgba(0, 0, 0, 0.15);\n",
              "    filter: drop-shadow(0px 1px 2px rgba(0, 0, 0, 0.3));\n",
              "    fill: #FFFFFF;\n",
              "  }\n",
              "</style>\n",
              "\n",
              "    <script>\n",
              "      async function quickchart(key) {\n",
              "        const containerElement = document.querySelector('#' + key);\n",
              "        const charts = await google.colab.kernel.invokeFunction(\n",
              "            'suggestCharts', [key], {});\n",
              "      }\n",
              "    </script>\n",
              "\n",
              "      <script>\n",
              "\n",
              "function displayQuickchartButton(domScope) {\n",
              "  let quickchartButtonEl =\n",
              "    domScope.querySelector('#df-cb709dc4-4a50-4993-8f84-09cc2501f865 button.colab-df-quickchart');\n",
              "  quickchartButtonEl.style.display =\n",
              "    google.colab.kernel.accessAllowed ? 'block' : 'none';\n",
              "}\n",
              "\n",
              "        displayQuickchartButton(document);\n",
              "      </script>\n",
              "      <style>\n",
              "    .colab-df-container {\n",
              "      display:flex;\n",
              "      flex-wrap:wrap;\n",
              "      gap: 12px;\n",
              "    }\n",
              "\n",
              "    .colab-df-convert {\n",
              "      background-color: #E8F0FE;\n",
              "      border: none;\n",
              "      border-radius: 50%;\n",
              "      cursor: pointer;\n",
              "      display: none;\n",
              "      fill: #1967D2;\n",
              "      height: 32px;\n",
              "      padding: 0 0 0 0;\n",
              "      width: 32px;\n",
              "    }\n",
              "\n",
              "    .colab-df-convert:hover {\n",
              "      background-color: #E2EBFA;\n",
              "      box-shadow: 0px 1px 2px rgba(60, 64, 67, 0.3), 0px 1px 3px 1px rgba(60, 64, 67, 0.15);\n",
              "      fill: #174EA6;\n",
              "    }\n",
              "\n",
              "    [theme=dark] .colab-df-convert {\n",
              "      background-color: #3B4455;\n",
              "      fill: #D2E3FC;\n",
              "    }\n",
              "\n",
              "    [theme=dark] .colab-df-convert:hover {\n",
              "      background-color: #434B5C;\n",
              "      box-shadow: 0px 1px 3px 1px rgba(0, 0, 0, 0.15);\n",
              "      filter: drop-shadow(0px 1px 2px rgba(0, 0, 0, 0.3));\n",
              "      fill: #FFFFFF;\n",
              "    }\n",
              "  </style>\n",
              "\n",
              "      <script>\n",
              "        const buttonEl =\n",
              "          document.querySelector('#df-a602e34f-23b0-4d27-8dd8-c37cb0420b78 button.colab-df-convert');\n",
              "        buttonEl.style.display =\n",
              "          google.colab.kernel.accessAllowed ? 'block' : 'none';\n",
              "\n",
              "        async function convertToInteractive(key) {\n",
              "          const element = document.querySelector('#df-a602e34f-23b0-4d27-8dd8-c37cb0420b78');\n",
              "          const dataTable =\n",
              "            await google.colab.kernel.invokeFunction('convertToInteractive',\n",
              "                                                     [key], {});\n",
              "          if (!dataTable) return;\n",
              "\n",
              "          const docLinkHtml = 'Like what you see? Visit the ' +\n",
              "            '<a target=\"_blank\" href=https://colab.research.google.com/notebooks/data_table.ipynb>data table notebook</a>'\n",
              "            + ' to learn more about interactive tables.';\n",
              "          element.innerHTML = '';\n",
              "          dataTable['output_type'] = 'display_data';\n",
              "          await google.colab.output.renderOutput(dataTable, element);\n",
              "          const docLink = document.createElement('div');\n",
              "          docLink.innerHTML = docLinkHtml;\n",
              "          element.appendChild(docLink);\n",
              "        }\n",
              "      </script>\n",
              "    </div>\n",
              "  </div>\n"
            ]
          },
          "metadata": {},
          "execution_count": 10
        }
      ]
    },
    {
      "cell_type": "code",
      "source": [
        "cd_train.isnull().sum()"
      ],
      "metadata": {
        "id": "aiN_pUZf4Lt2",
        "colab": {
          "base_uri": "https://localhost:8080/"
        },
        "outputId": "30ed5b7c-2c4d-4667-b21d-57c239f6f595"
      },
      "execution_count": 11,
      "outputs": [
        {
          "output_type": "execute_result",
          "data": {
            "text/plain": [
              "Id        0\n",
              "Hazard    0\n",
              "T1_V1     0\n",
              "T1_V2     0\n",
              "T1_V3     0\n",
              "T1_V4     0\n",
              "T1_V5     0\n",
              "T1_V6     0\n",
              "T1_V7     0\n",
              "T1_V8     0\n",
              "T1_V9     0\n",
              "T1_V10    0\n",
              "T1_V11    0\n",
              "T1_V12    0\n",
              "T1_V13    0\n",
              "T1_V14    0\n",
              "T1_V15    0\n",
              "T1_V16    0\n",
              "T1_V17    0\n",
              "T2_V1     0\n",
              "T2_V2     0\n",
              "T2_V3     0\n",
              "T2_V4     0\n",
              "T2_V5     0\n",
              "T2_V6     0\n",
              "T2_V7     0\n",
              "T2_V8     0\n",
              "T2_V9     0\n",
              "T2_V10    0\n",
              "T2_V11    0\n",
              "T2_V12    0\n",
              "T2_V13    0\n",
              "T2_V14    0\n",
              "T2_V15    0\n",
              "dtype: int64"
            ]
          },
          "metadata": {},
          "execution_count": 11
        }
      ]
    },
    {
      "cell_type": "code",
      "source": [
        "cd_train.describe()"
      ],
      "metadata": {
        "id": "QoQ-jvmSFONa",
        "colab": {
          "base_uri": "https://localhost:8080/",
          "height": 361
        },
        "outputId": "e46e16c1-ad2f-4b4b-910e-affd2138d940"
      },
      "execution_count": 12,
      "outputs": [
        {
          "output_type": "execute_result",
          "data": {
            "text/plain": [
              "                  Id        Hazard         T1_V1         T1_V2         T1_V3  \\\n",
              "count   40799.000000  40799.000000  40799.000000  40799.000000  40799.000000   \n",
              "mean    50850.454276      4.009584      9.723645     12.849359      3.190691   \n",
              "std     29282.641037      4.007785      5.170715      6.257502      1.742044   \n",
              "min         2.000000      1.000000      1.000000      1.000000      1.000000   \n",
              "25%     25596.500000      1.000000      6.000000      7.000000      2.000000   \n",
              "50%     50784.000000      3.000000      9.000000     14.000000      3.000000   \n",
              "75%     76198.500000      5.000000     14.000000     18.000000      4.000000   \n",
              "max    101999.000000     69.000000     19.000000     24.000000      9.000000   \n",
              "\n",
              "             T1_V10        T1_V13        T1_V14         T2_V1         T2_V2  \\\n",
              "count  40799.000000  40799.000000  40799.000000  40799.000000  40799.000000   \n",
              "mean       7.025123     14.009902      1.582416     57.568641     12.410451   \n",
              "std        3.596619      4.649012      0.865121     23.461468      4.785406   \n",
              "min        2.000000      5.000000      0.000000      1.000000      1.000000   \n",
              "25%        3.000000     10.000000      1.000000     40.000000      9.000000   \n",
              "50%        8.000000     15.000000      1.000000     55.000000     11.000000   \n",
              "75%       12.000000     20.000000      2.000000     77.000000     15.000000   \n",
              "max       12.000000     20.000000      4.000000    100.000000     39.000000   \n",
              "\n",
              "              T2_V4         T2_V6         T2_V7         T2_V8         T2_V9  \\\n",
              "count  40799.000000  40799.000000  40799.000000  40799.000000  40799.000000   \n",
              "mean      10.251403      1.947499     33.504620      1.031349     12.496973   \n",
              "std        4.845443      0.795249      5.830512      0.191676      7.313552   \n",
              "min        1.000000      1.000000     22.000000      1.000000      1.000000   \n",
              "25%        6.000000      2.000000     31.000000      1.000000      6.000000   \n",
              "50%       10.000000      2.000000     34.000000      1.000000     14.000000   \n",
              "75%       14.000000      2.000000     40.000000      1.000000     18.000000   \n",
              "max       22.000000      7.000000     40.000000      3.000000     25.000000   \n",
              "\n",
              "             T2_V10        T2_V14        T2_V15  \n",
              "count  40799.000000  40799.000000  40799.000000  \n",
              "mean       4.489963      2.448344      3.482512  \n",
              "std        1.899386      1.257293      3.070911  \n",
              "min        1.000000      1.000000      1.000000  \n",
              "25%        3.000000      2.000000      1.000000  \n",
              "50%        4.000000      2.000000      2.000000  \n",
              "75%        6.000000      3.000000      5.000000  \n",
              "max        7.000000      7.000000     12.000000  "
            ],
            "text/html": [
              "\n",
              "\n",
              "  <div id=\"df-f933d2d9-04bd-4ce6-9737-daaf4aae92de\">\n",
              "    <div class=\"colab-df-container\">\n",
              "      <div>\n",
              "<style scoped>\n",
              "    .dataframe tbody tr th:only-of-type {\n",
              "        vertical-align: middle;\n",
              "    }\n",
              "\n",
              "    .dataframe tbody tr th {\n",
              "        vertical-align: top;\n",
              "    }\n",
              "\n",
              "    .dataframe thead th {\n",
              "        text-align: right;\n",
              "    }\n",
              "</style>\n",
              "<table border=\"1\" class=\"dataframe\">\n",
              "  <thead>\n",
              "    <tr style=\"text-align: right;\">\n",
              "      <th></th>\n",
              "      <th>Id</th>\n",
              "      <th>Hazard</th>\n",
              "      <th>T1_V1</th>\n",
              "      <th>T1_V2</th>\n",
              "      <th>T1_V3</th>\n",
              "      <th>T1_V10</th>\n",
              "      <th>T1_V13</th>\n",
              "      <th>T1_V14</th>\n",
              "      <th>T2_V1</th>\n",
              "      <th>T2_V2</th>\n",
              "      <th>T2_V4</th>\n",
              "      <th>T2_V6</th>\n",
              "      <th>T2_V7</th>\n",
              "      <th>T2_V8</th>\n",
              "      <th>T2_V9</th>\n",
              "      <th>T2_V10</th>\n",
              "      <th>T2_V14</th>\n",
              "      <th>T2_V15</th>\n",
              "    </tr>\n",
              "  </thead>\n",
              "  <tbody>\n",
              "    <tr>\n",
              "      <th>count</th>\n",
              "      <td>40799.000000</td>\n",
              "      <td>40799.000000</td>\n",
              "      <td>40799.000000</td>\n",
              "      <td>40799.000000</td>\n",
              "      <td>40799.000000</td>\n",
              "      <td>40799.000000</td>\n",
              "      <td>40799.000000</td>\n",
              "      <td>40799.000000</td>\n",
              "      <td>40799.000000</td>\n",
              "      <td>40799.000000</td>\n",
              "      <td>40799.000000</td>\n",
              "      <td>40799.000000</td>\n",
              "      <td>40799.000000</td>\n",
              "      <td>40799.000000</td>\n",
              "      <td>40799.000000</td>\n",
              "      <td>40799.000000</td>\n",
              "      <td>40799.000000</td>\n",
              "      <td>40799.000000</td>\n",
              "    </tr>\n",
              "    <tr>\n",
              "      <th>mean</th>\n",
              "      <td>50850.454276</td>\n",
              "      <td>4.009584</td>\n",
              "      <td>9.723645</td>\n",
              "      <td>12.849359</td>\n",
              "      <td>3.190691</td>\n",
              "      <td>7.025123</td>\n",
              "      <td>14.009902</td>\n",
              "      <td>1.582416</td>\n",
              "      <td>57.568641</td>\n",
              "      <td>12.410451</td>\n",
              "      <td>10.251403</td>\n",
              "      <td>1.947499</td>\n",
              "      <td>33.504620</td>\n",
              "      <td>1.031349</td>\n",
              "      <td>12.496973</td>\n",
              "      <td>4.489963</td>\n",
              "      <td>2.448344</td>\n",
              "      <td>3.482512</td>\n",
              "    </tr>\n",
              "    <tr>\n",
              "      <th>std</th>\n",
              "      <td>29282.641037</td>\n",
              "      <td>4.007785</td>\n",
              "      <td>5.170715</td>\n",
              "      <td>6.257502</td>\n",
              "      <td>1.742044</td>\n",
              "      <td>3.596619</td>\n",
              "      <td>4.649012</td>\n",
              "      <td>0.865121</td>\n",
              "      <td>23.461468</td>\n",
              "      <td>4.785406</td>\n",
              "      <td>4.845443</td>\n",
              "      <td>0.795249</td>\n",
              "      <td>5.830512</td>\n",
              "      <td>0.191676</td>\n",
              "      <td>7.313552</td>\n",
              "      <td>1.899386</td>\n",
              "      <td>1.257293</td>\n",
              "      <td>3.070911</td>\n",
              "    </tr>\n",
              "    <tr>\n",
              "      <th>min</th>\n",
              "      <td>2.000000</td>\n",
              "      <td>1.000000</td>\n",
              "      <td>1.000000</td>\n",
              "      <td>1.000000</td>\n",
              "      <td>1.000000</td>\n",
              "      <td>2.000000</td>\n",
              "      <td>5.000000</td>\n",
              "      <td>0.000000</td>\n",
              "      <td>1.000000</td>\n",
              "      <td>1.000000</td>\n",
              "      <td>1.000000</td>\n",
              "      <td>1.000000</td>\n",
              "      <td>22.000000</td>\n",
              "      <td>1.000000</td>\n",
              "      <td>1.000000</td>\n",
              "      <td>1.000000</td>\n",
              "      <td>1.000000</td>\n",
              "      <td>1.000000</td>\n",
              "    </tr>\n",
              "    <tr>\n",
              "      <th>25%</th>\n",
              "      <td>25596.500000</td>\n",
              "      <td>1.000000</td>\n",
              "      <td>6.000000</td>\n",
              "      <td>7.000000</td>\n",
              "      <td>2.000000</td>\n",
              "      <td>3.000000</td>\n",
              "      <td>10.000000</td>\n",
              "      <td>1.000000</td>\n",
              "      <td>40.000000</td>\n",
              "      <td>9.000000</td>\n",
              "      <td>6.000000</td>\n",
              "      <td>2.000000</td>\n",
              "      <td>31.000000</td>\n",
              "      <td>1.000000</td>\n",
              "      <td>6.000000</td>\n",
              "      <td>3.000000</td>\n",
              "      <td>2.000000</td>\n",
              "      <td>1.000000</td>\n",
              "    </tr>\n",
              "    <tr>\n",
              "      <th>50%</th>\n",
              "      <td>50784.000000</td>\n",
              "      <td>3.000000</td>\n",
              "      <td>9.000000</td>\n",
              "      <td>14.000000</td>\n",
              "      <td>3.000000</td>\n",
              "      <td>8.000000</td>\n",
              "      <td>15.000000</td>\n",
              "      <td>1.000000</td>\n",
              "      <td>55.000000</td>\n",
              "      <td>11.000000</td>\n",
              "      <td>10.000000</td>\n",
              "      <td>2.000000</td>\n",
              "      <td>34.000000</td>\n",
              "      <td>1.000000</td>\n",
              "      <td>14.000000</td>\n",
              "      <td>4.000000</td>\n",
              "      <td>2.000000</td>\n",
              "      <td>2.000000</td>\n",
              "    </tr>\n",
              "    <tr>\n",
              "      <th>75%</th>\n",
              "      <td>76198.500000</td>\n",
              "      <td>5.000000</td>\n",
              "      <td>14.000000</td>\n",
              "      <td>18.000000</td>\n",
              "      <td>4.000000</td>\n",
              "      <td>12.000000</td>\n",
              "      <td>20.000000</td>\n",
              "      <td>2.000000</td>\n",
              "      <td>77.000000</td>\n",
              "      <td>15.000000</td>\n",
              "      <td>14.000000</td>\n",
              "      <td>2.000000</td>\n",
              "      <td>40.000000</td>\n",
              "      <td>1.000000</td>\n",
              "      <td>18.000000</td>\n",
              "      <td>6.000000</td>\n",
              "      <td>3.000000</td>\n",
              "      <td>5.000000</td>\n",
              "    </tr>\n",
              "    <tr>\n",
              "      <th>max</th>\n",
              "      <td>101999.000000</td>\n",
              "      <td>69.000000</td>\n",
              "      <td>19.000000</td>\n",
              "      <td>24.000000</td>\n",
              "      <td>9.000000</td>\n",
              "      <td>12.000000</td>\n",
              "      <td>20.000000</td>\n",
              "      <td>4.000000</td>\n",
              "      <td>100.000000</td>\n",
              "      <td>39.000000</td>\n",
              "      <td>22.000000</td>\n",
              "      <td>7.000000</td>\n",
              "      <td>40.000000</td>\n",
              "      <td>3.000000</td>\n",
              "      <td>25.000000</td>\n",
              "      <td>7.000000</td>\n",
              "      <td>7.000000</td>\n",
              "      <td>12.000000</td>\n",
              "    </tr>\n",
              "  </tbody>\n",
              "</table>\n",
              "</div>\n",
              "      <button class=\"colab-df-convert\" onclick=\"convertToInteractive('df-f933d2d9-04bd-4ce6-9737-daaf4aae92de')\"\n",
              "              title=\"Convert this dataframe to an interactive table.\"\n",
              "              style=\"display:none;\">\n",
              "\n",
              "  <svg xmlns=\"http://www.w3.org/2000/svg\" height=\"24px\"viewBox=\"0 0 24 24\"\n",
              "       width=\"24px\">\n",
              "    <path d=\"M0 0h24v24H0V0z\" fill=\"none\"/>\n",
              "    <path d=\"M18.56 5.44l.94 2.06.94-2.06 2.06-.94-2.06-.94-.94-2.06-.94 2.06-2.06.94zm-11 1L8.5 8.5l.94-2.06 2.06-.94-2.06-.94L8.5 2.5l-.94 2.06-2.06.94zm10 10l.94 2.06.94-2.06 2.06-.94-2.06-.94-.94-2.06-.94 2.06-2.06.94z\"/><path d=\"M17.41 7.96l-1.37-1.37c-.4-.4-.92-.59-1.43-.59-.52 0-1.04.2-1.43.59L10.3 9.45l-7.72 7.72c-.78.78-.78 2.05 0 2.83L4 21.41c.39.39.9.59 1.41.59.51 0 1.02-.2 1.41-.59l7.78-7.78 2.81-2.81c.8-.78.8-2.07 0-2.86zM5.41 20L4 18.59l7.72-7.72 1.47 1.35L5.41 20z\"/>\n",
              "  </svg>\n",
              "      </button>\n",
              "\n",
              "\n",
              "\n",
              "    <div id=\"df-c8eaa70a-651e-4355-8b76-ac0f1e6ae550\">\n",
              "      <button class=\"colab-df-quickchart\" onclick=\"quickchart('df-c8eaa70a-651e-4355-8b76-ac0f1e6ae550')\"\n",
              "              title=\"Suggest charts.\"\n",
              "              style=\"display:none;\">\n",
              "\n",
              "<svg xmlns=\"http://www.w3.org/2000/svg\" height=\"24px\"viewBox=\"0 0 24 24\"\n",
              "     width=\"24px\">\n",
              "    <g>\n",
              "        <path d=\"M19 3H5c-1.1 0-2 .9-2 2v14c0 1.1.9 2 2 2h14c1.1 0 2-.9 2-2V5c0-1.1-.9-2-2-2zM9 17H7v-7h2v7zm4 0h-2V7h2v10zm4 0h-2v-4h2v4z\"/>\n",
              "    </g>\n",
              "</svg>\n",
              "      </button>\n",
              "    </div>\n",
              "\n",
              "<style>\n",
              "  .colab-df-quickchart {\n",
              "    background-color: #E8F0FE;\n",
              "    border: none;\n",
              "    border-radius: 50%;\n",
              "    cursor: pointer;\n",
              "    display: none;\n",
              "    fill: #1967D2;\n",
              "    height: 32px;\n",
              "    padding: 0 0 0 0;\n",
              "    width: 32px;\n",
              "  }\n",
              "\n",
              "  .colab-df-quickchart:hover {\n",
              "    background-color: #E2EBFA;\n",
              "    box-shadow: 0px 1px 2px rgba(60, 64, 67, 0.3), 0px 1px 3px 1px rgba(60, 64, 67, 0.15);\n",
              "    fill: #174EA6;\n",
              "  }\n",
              "\n",
              "  [theme=dark] .colab-df-quickchart {\n",
              "    background-color: #3B4455;\n",
              "    fill: #D2E3FC;\n",
              "  }\n",
              "\n",
              "  [theme=dark] .colab-df-quickchart:hover {\n",
              "    background-color: #434B5C;\n",
              "    box-shadow: 0px 1px 3px 1px rgba(0, 0, 0, 0.15);\n",
              "    filter: drop-shadow(0px 1px 2px rgba(0, 0, 0, 0.3));\n",
              "    fill: #FFFFFF;\n",
              "  }\n",
              "</style>\n",
              "\n",
              "    <script>\n",
              "      async function quickchart(key) {\n",
              "        const containerElement = document.querySelector('#' + key);\n",
              "        const charts = await google.colab.kernel.invokeFunction(\n",
              "            'suggestCharts', [key], {});\n",
              "      }\n",
              "    </script>\n",
              "\n",
              "      <script>\n",
              "\n",
              "function displayQuickchartButton(domScope) {\n",
              "  let quickchartButtonEl =\n",
              "    domScope.querySelector('#df-c8eaa70a-651e-4355-8b76-ac0f1e6ae550 button.colab-df-quickchart');\n",
              "  quickchartButtonEl.style.display =\n",
              "    google.colab.kernel.accessAllowed ? 'block' : 'none';\n",
              "}\n",
              "\n",
              "        displayQuickchartButton(document);\n",
              "      </script>\n",
              "      <style>\n",
              "    .colab-df-container {\n",
              "      display:flex;\n",
              "      flex-wrap:wrap;\n",
              "      gap: 12px;\n",
              "    }\n",
              "\n",
              "    .colab-df-convert {\n",
              "      background-color: #E8F0FE;\n",
              "      border: none;\n",
              "      border-radius: 50%;\n",
              "      cursor: pointer;\n",
              "      display: none;\n",
              "      fill: #1967D2;\n",
              "      height: 32px;\n",
              "      padding: 0 0 0 0;\n",
              "      width: 32px;\n",
              "    }\n",
              "\n",
              "    .colab-df-convert:hover {\n",
              "      background-color: #E2EBFA;\n",
              "      box-shadow: 0px 1px 2px rgba(60, 64, 67, 0.3), 0px 1px 3px 1px rgba(60, 64, 67, 0.15);\n",
              "      fill: #174EA6;\n",
              "    }\n",
              "\n",
              "    [theme=dark] .colab-df-convert {\n",
              "      background-color: #3B4455;\n",
              "      fill: #D2E3FC;\n",
              "    }\n",
              "\n",
              "    [theme=dark] .colab-df-convert:hover {\n",
              "      background-color: #434B5C;\n",
              "      box-shadow: 0px 1px 3px 1px rgba(0, 0, 0, 0.15);\n",
              "      filter: drop-shadow(0px 1px 2px rgba(0, 0, 0, 0.3));\n",
              "      fill: #FFFFFF;\n",
              "    }\n",
              "  </style>\n",
              "\n",
              "      <script>\n",
              "        const buttonEl =\n",
              "          document.querySelector('#df-f933d2d9-04bd-4ce6-9737-daaf4aae92de button.colab-df-convert');\n",
              "        buttonEl.style.display =\n",
              "          google.colab.kernel.accessAllowed ? 'block' : 'none';\n",
              "\n",
              "        async function convertToInteractive(key) {\n",
              "          const element = document.querySelector('#df-f933d2d9-04bd-4ce6-9737-daaf4aae92de');\n",
              "          const dataTable =\n",
              "            await google.colab.kernel.invokeFunction('convertToInteractive',\n",
              "                                                     [key], {});\n",
              "          if (!dataTable) return;\n",
              "\n",
              "          const docLinkHtml = 'Like what you see? Visit the ' +\n",
              "            '<a target=\"_blank\" href=https://colab.research.google.com/notebooks/data_table.ipynb>data table notebook</a>'\n",
              "            + ' to learn more about interactive tables.';\n",
              "          element.innerHTML = '';\n",
              "          dataTable['output_type'] = 'display_data';\n",
              "          await google.colab.output.renderOutput(dataTable, element);\n",
              "          const docLink = document.createElement('div');\n",
              "          docLink.innerHTML = docLinkHtml;\n",
              "          element.appendChild(docLink);\n",
              "        }\n",
              "      </script>\n",
              "    </div>\n",
              "  </div>\n"
            ]
          },
          "metadata": {},
          "execution_count": 12
        }
      ]
    },
    {
      "cell_type": "code",
      "source": [
        "cd_train.shape"
      ],
      "metadata": {
        "id": "XZNfH0XGoAOO",
        "outputId": "38398998-02b2-4686-82c2-d67216b07e62",
        "colab": {
          "base_uri": "https://localhost:8080/"
        }
      },
      "execution_count": 13,
      "outputs": [
        {
          "output_type": "execute_result",
          "data": {
            "text/plain": [
              "(40799, 34)"
            ]
          },
          "metadata": {},
          "execution_count": 13
        }
      ]
    },
    {
      "cell_type": "code",
      "source": [
        "cd_test.shape"
      ],
      "metadata": {
        "id": "IFusShh_pPWm",
        "outputId": "5639cce7-c159-45bd-ac75-7d0b65403db8",
        "colab": {
          "base_uri": "https://localhost:8080/"
        }
      },
      "execution_count": 14,
      "outputs": [
        {
          "output_type": "execute_result",
          "data": {
            "text/plain": [
              "(10200, 33)"
            ]
          },
          "metadata": {},
          "execution_count": 14
        }
      ]
    },
    {
      "cell_type": "code",
      "source": [
        "cd_train.columns"
      ],
      "metadata": {
        "id": "HQvIHEuupTxS",
        "outputId": "445a6119-3bd1-41f8-a512-0e77789e870f",
        "colab": {
          "base_uri": "https://localhost:8080/"
        }
      },
      "execution_count": 15,
      "outputs": [
        {
          "output_type": "execute_result",
          "data": {
            "text/plain": [
              "Index(['Id', 'Hazard', 'T1_V1', 'T1_V2', 'T1_V3', 'T1_V4', 'T1_V5', 'T1_V6',\n",
              "       'T1_V7', 'T1_V8', 'T1_V9', 'T1_V10', 'T1_V11', 'T1_V12', 'T1_V13',\n",
              "       'T1_V14', 'T1_V15', 'T1_V16', 'T1_V17', 'T2_V1', 'T2_V2', 'T2_V3',\n",
              "       'T2_V4', 'T2_V5', 'T2_V6', 'T2_V7', 'T2_V8', 'T2_V9', 'T2_V10',\n",
              "       'T2_V11', 'T2_V12', 'T2_V13', 'T2_V14', 'T2_V15'],\n",
              "      dtype='object')"
            ]
          },
          "metadata": {},
          "execution_count": 15
        }
      ]
    },
    {
      "cell_type": "code",
      "source": [
        "cd_test.columns"
      ],
      "metadata": {
        "id": "Vm-2tKkjpZvb",
        "outputId": "3155f9eb-492f-4aee-8084-48084e6626d8",
        "colab": {
          "base_uri": "https://localhost:8080/"
        }
      },
      "execution_count": 16,
      "outputs": [
        {
          "output_type": "execute_result",
          "data": {
            "text/plain": [
              "Index(['Id', 'T1_V1', 'T1_V2', 'T1_V3', 'T1_V4', 'T1_V5', 'T1_V6', 'T1_V7',\n",
              "       'T1_V8', 'T1_V9', 'T1_V10', 'T1_V11', 'T1_V12', 'T1_V13', 'T1_V14',\n",
              "       'T1_V15', 'T1_V16', 'T1_V17', 'T2_V1', 'T2_V2', 'T2_V3', 'T2_V4',\n",
              "       'T2_V5', 'T2_V6', 'T2_V7', 'T2_V8', 'T2_V9', 'T2_V10', 'T2_V11',\n",
              "       'T2_V12', 'T2_V13', 'T2_V14', 'T2_V15'],\n",
              "      dtype='object')"
            ]
          },
          "metadata": {},
          "execution_count": 16
        }
      ]
    },
    {
      "cell_type": "code",
      "source": [
        "cd_test['Hazard']=np.nan"
      ],
      "metadata": {
        "id": "P1P-JTfQpePj"
      },
      "execution_count": 17,
      "outputs": []
    },
    {
      "cell_type": "code",
      "source": [
        "cd_train['data']='train'\n",
        "cd_test['data']='test'"
      ],
      "metadata": {
        "id": "A87q6yPGpwK-"
      },
      "execution_count": 18,
      "outputs": []
    },
    {
      "cell_type": "code",
      "source": [
        "cd_test=cd_test[cd_train.columns]"
      ],
      "metadata": {
        "id": "_QA3_61FqFGT"
      },
      "execution_count": 19,
      "outputs": []
    },
    {
      "cell_type": "code",
      "source": [
        "cd_all=pd.concat([cd_train,cd_test],axis=0)"
      ],
      "metadata": {
        "id": "_lrWdBT6qgZI"
      },
      "execution_count": 20,
      "outputs": []
    },
    {
      "cell_type": "code",
      "source": [
        "cd_all.shape"
      ],
      "metadata": {
        "id": "88iUPjPvq1lU",
        "outputId": "6bbda4a8-8249-471d-a092-7644b8a02ba0",
        "colab": {
          "base_uri": "https://localhost:8080/"
        }
      },
      "execution_count": 21,
      "outputs": [
        {
          "output_type": "execute_result",
          "data": {
            "text/plain": [
              "(50999, 35)"
            ]
          },
          "metadata": {},
          "execution_count": 21
        }
      ]
    },
    {
      "cell_type": "code",
      "source": [
        "cd_all.dtypes"
      ],
      "metadata": {
        "id": "yXzS-8lNrCDi",
        "outputId": "0ed2e609-94f2-42ec-a331-ca1b9011ac02",
        "colab": {
          "base_uri": "https://localhost:8080/"
        }
      },
      "execution_count": 22,
      "outputs": [
        {
          "output_type": "execute_result",
          "data": {
            "text/plain": [
              "Id          int64\n",
              "Hazard    float64\n",
              "T1_V1       int64\n",
              "T1_V2       int64\n",
              "T1_V3       int64\n",
              "T1_V4      object\n",
              "T1_V5      object\n",
              "T1_V6      object\n",
              "T1_V7      object\n",
              "T1_V8      object\n",
              "T1_V9      object\n",
              "T1_V10      int64\n",
              "T1_V11     object\n",
              "T1_V12     object\n",
              "T1_V13      int64\n",
              "T1_V14      int64\n",
              "T1_V15     object\n",
              "T1_V16     object\n",
              "T1_V17     object\n",
              "T2_V1       int64\n",
              "T2_V2       int64\n",
              "T2_V3      object\n",
              "T2_V4       int64\n",
              "T2_V5      object\n",
              "T2_V6       int64\n",
              "T2_V7       int64\n",
              "T2_V8       int64\n",
              "T2_V9       int64\n",
              "T2_V10      int64\n",
              "T2_V11     object\n",
              "T2_V12     object\n",
              "T2_V13     object\n",
              "T2_V14      int64\n",
              "T2_V15      int64\n",
              "data       object\n",
              "dtype: object"
            ]
          },
          "metadata": {},
          "execution_count": 22
        }
      ]
    },
    {
      "cell_type": "code",
      "source": [
        "cd_all.describe()"
      ],
      "metadata": {
        "id": "ZmODMzb5rESi",
        "outputId": "28f7f2d3-c58f-43f9-e8e4-59f84a5fdcb4",
        "colab": {
          "base_uri": "https://localhost:8080/",
          "height": 361
        }
      },
      "execution_count": 23,
      "outputs": [
        {
          "output_type": "execute_result",
          "data": {
            "text/plain": [
              "                  Id        Hazard         T1_V1         T1_V2         T1_V3  \\\n",
              "count   50999.000000  40799.000000  50999.000000  50999.000000  50999.000000   \n",
              "mean    50929.727897      4.009584      9.722093     12.847585      3.186004   \n",
              "std     29314.685894      4.007785      5.167943      6.255743      1.739369   \n",
              "min         1.000000      1.000000      1.000000      1.000000      1.000000   \n",
              "25%     25660.500000      1.000000      6.000000      7.000000      2.000000   \n",
              "50%     50977.000000      3.000000      9.000000     14.000000      3.000000   \n",
              "75%     76268.500000      5.000000     14.000000     18.000000      4.000000   \n",
              "max    101999.000000     69.000000     19.000000     24.000000      9.000000   \n",
              "\n",
              "             T1_V10        T1_V13        T1_V14         T2_V1         T2_V2  \\\n",
              "count  50999.000000  50999.000000  50999.000000  50999.000000  50999.000000   \n",
              "mean       7.020451     13.996255      1.578521     57.580051     12.419616   \n",
              "std        3.595279      4.647499      0.862882     23.499818      4.783411   \n",
              "min        2.000000      5.000000      0.000000      1.000000      1.000000   \n",
              "25%        3.000000     10.000000      1.000000     40.000000      9.000000   \n",
              "50%        8.000000     15.000000      1.000000     56.000000     11.000000   \n",
              "75%        8.000000     20.000000      2.000000     77.000000     15.000000   \n",
              "max       12.000000     20.000000      4.000000    100.000000     39.000000   \n",
              "\n",
              "              T2_V4         T2_V6         T2_V7         T2_V8         T2_V9  \\\n",
              "count  50999.000000  50999.000000  50999.000000  50999.000000  50999.000000   \n",
              "mean      10.259495      1.948215     33.487755      1.032236     12.493029   \n",
              "std        4.852008      0.800117      5.834038      0.195893      7.314788   \n",
              "min        1.000000      1.000000     22.000000      1.000000      1.000000   \n",
              "25%        6.000000      2.000000     31.000000      1.000000      6.000000   \n",
              "50%       10.000000      2.000000     34.000000      1.000000     14.000000   \n",
              "75%       14.000000      2.000000     40.000000      1.000000     18.000000   \n",
              "max       22.000000      7.000000     40.000000      3.000000     25.000000   \n",
              "\n",
              "             T2_V10        T2_V14        T2_V15  \n",
              "count  50999.000000  50999.000000  50999.000000  \n",
              "mean       4.496520      2.451126      3.484480  \n",
              "std        1.896717      1.260074      3.076745  \n",
              "min        1.000000      1.000000      1.000000  \n",
              "25%        3.000000      2.000000      1.000000  \n",
              "50%        4.000000      2.000000      2.000000  \n",
              "75%        6.000000      3.000000      5.000000  \n",
              "max        7.000000      7.000000     12.000000  "
            ],
            "text/html": [
              "\n",
              "\n",
              "  <div id=\"df-98d6f5f7-4f71-48f1-9463-23a9e113e050\">\n",
              "    <div class=\"colab-df-container\">\n",
              "      <div>\n",
              "<style scoped>\n",
              "    .dataframe tbody tr th:only-of-type {\n",
              "        vertical-align: middle;\n",
              "    }\n",
              "\n",
              "    .dataframe tbody tr th {\n",
              "        vertical-align: top;\n",
              "    }\n",
              "\n",
              "    .dataframe thead th {\n",
              "        text-align: right;\n",
              "    }\n",
              "</style>\n",
              "<table border=\"1\" class=\"dataframe\">\n",
              "  <thead>\n",
              "    <tr style=\"text-align: right;\">\n",
              "      <th></th>\n",
              "      <th>Id</th>\n",
              "      <th>Hazard</th>\n",
              "      <th>T1_V1</th>\n",
              "      <th>T1_V2</th>\n",
              "      <th>T1_V3</th>\n",
              "      <th>T1_V10</th>\n",
              "      <th>T1_V13</th>\n",
              "      <th>T1_V14</th>\n",
              "      <th>T2_V1</th>\n",
              "      <th>T2_V2</th>\n",
              "      <th>T2_V4</th>\n",
              "      <th>T2_V6</th>\n",
              "      <th>T2_V7</th>\n",
              "      <th>T2_V8</th>\n",
              "      <th>T2_V9</th>\n",
              "      <th>T2_V10</th>\n",
              "      <th>T2_V14</th>\n",
              "      <th>T2_V15</th>\n",
              "    </tr>\n",
              "  </thead>\n",
              "  <tbody>\n",
              "    <tr>\n",
              "      <th>count</th>\n",
              "      <td>50999.000000</td>\n",
              "      <td>40799.000000</td>\n",
              "      <td>50999.000000</td>\n",
              "      <td>50999.000000</td>\n",
              "      <td>50999.000000</td>\n",
              "      <td>50999.000000</td>\n",
              "      <td>50999.000000</td>\n",
              "      <td>50999.000000</td>\n",
              "      <td>50999.000000</td>\n",
              "      <td>50999.000000</td>\n",
              "      <td>50999.000000</td>\n",
              "      <td>50999.000000</td>\n",
              "      <td>50999.000000</td>\n",
              "      <td>50999.000000</td>\n",
              "      <td>50999.000000</td>\n",
              "      <td>50999.000000</td>\n",
              "      <td>50999.000000</td>\n",
              "      <td>50999.000000</td>\n",
              "    </tr>\n",
              "    <tr>\n",
              "      <th>mean</th>\n",
              "      <td>50929.727897</td>\n",
              "      <td>4.009584</td>\n",
              "      <td>9.722093</td>\n",
              "      <td>12.847585</td>\n",
              "      <td>3.186004</td>\n",
              "      <td>7.020451</td>\n",
              "      <td>13.996255</td>\n",
              "      <td>1.578521</td>\n",
              "      <td>57.580051</td>\n",
              "      <td>12.419616</td>\n",
              "      <td>10.259495</td>\n",
              "      <td>1.948215</td>\n",
              "      <td>33.487755</td>\n",
              "      <td>1.032236</td>\n",
              "      <td>12.493029</td>\n",
              "      <td>4.496520</td>\n",
              "      <td>2.451126</td>\n",
              "      <td>3.484480</td>\n",
              "    </tr>\n",
              "    <tr>\n",
              "      <th>std</th>\n",
              "      <td>29314.685894</td>\n",
              "      <td>4.007785</td>\n",
              "      <td>5.167943</td>\n",
              "      <td>6.255743</td>\n",
              "      <td>1.739369</td>\n",
              "      <td>3.595279</td>\n",
              "      <td>4.647499</td>\n",
              "      <td>0.862882</td>\n",
              "      <td>23.499818</td>\n",
              "      <td>4.783411</td>\n",
              "      <td>4.852008</td>\n",
              "      <td>0.800117</td>\n",
              "      <td>5.834038</td>\n",
              "      <td>0.195893</td>\n",
              "      <td>7.314788</td>\n",
              "      <td>1.896717</td>\n",
              "      <td>1.260074</td>\n",
              "      <td>3.076745</td>\n",
              "    </tr>\n",
              "    <tr>\n",
              "      <th>min</th>\n",
              "      <td>1.000000</td>\n",
              "      <td>1.000000</td>\n",
              "      <td>1.000000</td>\n",
              "      <td>1.000000</td>\n",
              "      <td>1.000000</td>\n",
              "      <td>2.000000</td>\n",
              "      <td>5.000000</td>\n",
              "      <td>0.000000</td>\n",
              "      <td>1.000000</td>\n",
              "      <td>1.000000</td>\n",
              "      <td>1.000000</td>\n",
              "      <td>1.000000</td>\n",
              "      <td>22.000000</td>\n",
              "      <td>1.000000</td>\n",
              "      <td>1.000000</td>\n",
              "      <td>1.000000</td>\n",
              "      <td>1.000000</td>\n",
              "      <td>1.000000</td>\n",
              "    </tr>\n",
              "    <tr>\n",
              "      <th>25%</th>\n",
              "      <td>25660.500000</td>\n",
              "      <td>1.000000</td>\n",
              "      <td>6.000000</td>\n",
              "      <td>7.000000</td>\n",
              "      <td>2.000000</td>\n",
              "      <td>3.000000</td>\n",
              "      <td>10.000000</td>\n",
              "      <td>1.000000</td>\n",
              "      <td>40.000000</td>\n",
              "      <td>9.000000</td>\n",
              "      <td>6.000000</td>\n",
              "      <td>2.000000</td>\n",
              "      <td>31.000000</td>\n",
              "      <td>1.000000</td>\n",
              "      <td>6.000000</td>\n",
              "      <td>3.000000</td>\n",
              "      <td>2.000000</td>\n",
              "      <td>1.000000</td>\n",
              "    </tr>\n",
              "    <tr>\n",
              "      <th>50%</th>\n",
              "      <td>50977.000000</td>\n",
              "      <td>3.000000</td>\n",
              "      <td>9.000000</td>\n",
              "      <td>14.000000</td>\n",
              "      <td>3.000000</td>\n",
              "      <td>8.000000</td>\n",
              "      <td>15.000000</td>\n",
              "      <td>1.000000</td>\n",
              "      <td>56.000000</td>\n",
              "      <td>11.000000</td>\n",
              "      <td>10.000000</td>\n",
              "      <td>2.000000</td>\n",
              "      <td>34.000000</td>\n",
              "      <td>1.000000</td>\n",
              "      <td>14.000000</td>\n",
              "      <td>4.000000</td>\n",
              "      <td>2.000000</td>\n",
              "      <td>2.000000</td>\n",
              "    </tr>\n",
              "    <tr>\n",
              "      <th>75%</th>\n",
              "      <td>76268.500000</td>\n",
              "      <td>5.000000</td>\n",
              "      <td>14.000000</td>\n",
              "      <td>18.000000</td>\n",
              "      <td>4.000000</td>\n",
              "      <td>8.000000</td>\n",
              "      <td>20.000000</td>\n",
              "      <td>2.000000</td>\n",
              "      <td>77.000000</td>\n",
              "      <td>15.000000</td>\n",
              "      <td>14.000000</td>\n",
              "      <td>2.000000</td>\n",
              "      <td>40.000000</td>\n",
              "      <td>1.000000</td>\n",
              "      <td>18.000000</td>\n",
              "      <td>6.000000</td>\n",
              "      <td>3.000000</td>\n",
              "      <td>5.000000</td>\n",
              "    </tr>\n",
              "    <tr>\n",
              "      <th>max</th>\n",
              "      <td>101999.000000</td>\n",
              "      <td>69.000000</td>\n",
              "      <td>19.000000</td>\n",
              "      <td>24.000000</td>\n",
              "      <td>9.000000</td>\n",
              "      <td>12.000000</td>\n",
              "      <td>20.000000</td>\n",
              "      <td>4.000000</td>\n",
              "      <td>100.000000</td>\n",
              "      <td>39.000000</td>\n",
              "      <td>22.000000</td>\n",
              "      <td>7.000000</td>\n",
              "      <td>40.000000</td>\n",
              "      <td>3.000000</td>\n",
              "      <td>25.000000</td>\n",
              "      <td>7.000000</td>\n",
              "      <td>7.000000</td>\n",
              "      <td>12.000000</td>\n",
              "    </tr>\n",
              "  </tbody>\n",
              "</table>\n",
              "</div>\n",
              "      <button class=\"colab-df-convert\" onclick=\"convertToInteractive('df-98d6f5f7-4f71-48f1-9463-23a9e113e050')\"\n",
              "              title=\"Convert this dataframe to an interactive table.\"\n",
              "              style=\"display:none;\">\n",
              "\n",
              "  <svg xmlns=\"http://www.w3.org/2000/svg\" height=\"24px\"viewBox=\"0 0 24 24\"\n",
              "       width=\"24px\">\n",
              "    <path d=\"M0 0h24v24H0V0z\" fill=\"none\"/>\n",
              "    <path d=\"M18.56 5.44l.94 2.06.94-2.06 2.06-.94-2.06-.94-.94-2.06-.94 2.06-2.06.94zm-11 1L8.5 8.5l.94-2.06 2.06-.94-2.06-.94L8.5 2.5l-.94 2.06-2.06.94zm10 10l.94 2.06.94-2.06 2.06-.94-2.06-.94-.94-2.06-.94 2.06-2.06.94z\"/><path d=\"M17.41 7.96l-1.37-1.37c-.4-.4-.92-.59-1.43-.59-.52 0-1.04.2-1.43.59L10.3 9.45l-7.72 7.72c-.78.78-.78 2.05 0 2.83L4 21.41c.39.39.9.59 1.41.59.51 0 1.02-.2 1.41-.59l7.78-7.78 2.81-2.81c.8-.78.8-2.07 0-2.86zM5.41 20L4 18.59l7.72-7.72 1.47 1.35L5.41 20z\"/>\n",
              "  </svg>\n",
              "      </button>\n",
              "\n",
              "\n",
              "\n",
              "    <div id=\"df-a1c3fe07-fcf6-438c-8221-813f2e3f0514\">\n",
              "      <button class=\"colab-df-quickchart\" onclick=\"quickchart('df-a1c3fe07-fcf6-438c-8221-813f2e3f0514')\"\n",
              "              title=\"Suggest charts.\"\n",
              "              style=\"display:none;\">\n",
              "\n",
              "<svg xmlns=\"http://www.w3.org/2000/svg\" height=\"24px\"viewBox=\"0 0 24 24\"\n",
              "     width=\"24px\">\n",
              "    <g>\n",
              "        <path d=\"M19 3H5c-1.1 0-2 .9-2 2v14c0 1.1.9 2 2 2h14c1.1 0 2-.9 2-2V5c0-1.1-.9-2-2-2zM9 17H7v-7h2v7zm4 0h-2V7h2v10zm4 0h-2v-4h2v4z\"/>\n",
              "    </g>\n",
              "</svg>\n",
              "      </button>\n",
              "    </div>\n",
              "\n",
              "<style>\n",
              "  .colab-df-quickchart {\n",
              "    background-color: #E8F0FE;\n",
              "    border: none;\n",
              "    border-radius: 50%;\n",
              "    cursor: pointer;\n",
              "    display: none;\n",
              "    fill: #1967D2;\n",
              "    height: 32px;\n",
              "    padding: 0 0 0 0;\n",
              "    width: 32px;\n",
              "  }\n",
              "\n",
              "  .colab-df-quickchart:hover {\n",
              "    background-color: #E2EBFA;\n",
              "    box-shadow: 0px 1px 2px rgba(60, 64, 67, 0.3), 0px 1px 3px 1px rgba(60, 64, 67, 0.15);\n",
              "    fill: #174EA6;\n",
              "  }\n",
              "\n",
              "  [theme=dark] .colab-df-quickchart {\n",
              "    background-color: #3B4455;\n",
              "    fill: #D2E3FC;\n",
              "  }\n",
              "\n",
              "  [theme=dark] .colab-df-quickchart:hover {\n",
              "    background-color: #434B5C;\n",
              "    box-shadow: 0px 1px 3px 1px rgba(0, 0, 0, 0.15);\n",
              "    filter: drop-shadow(0px 1px 2px rgba(0, 0, 0, 0.3));\n",
              "    fill: #FFFFFF;\n",
              "  }\n",
              "</style>\n",
              "\n",
              "    <script>\n",
              "      async function quickchart(key) {\n",
              "        const containerElement = document.querySelector('#' + key);\n",
              "        const charts = await google.colab.kernel.invokeFunction(\n",
              "            'suggestCharts', [key], {});\n",
              "      }\n",
              "    </script>\n",
              "\n",
              "      <script>\n",
              "\n",
              "function displayQuickchartButton(domScope) {\n",
              "  let quickchartButtonEl =\n",
              "    domScope.querySelector('#df-a1c3fe07-fcf6-438c-8221-813f2e3f0514 button.colab-df-quickchart');\n",
              "  quickchartButtonEl.style.display =\n",
              "    google.colab.kernel.accessAllowed ? 'block' : 'none';\n",
              "}\n",
              "\n",
              "        displayQuickchartButton(document);\n",
              "      </script>\n",
              "      <style>\n",
              "    .colab-df-container {\n",
              "      display:flex;\n",
              "      flex-wrap:wrap;\n",
              "      gap: 12px;\n",
              "    }\n",
              "\n",
              "    .colab-df-convert {\n",
              "      background-color: #E8F0FE;\n",
              "      border: none;\n",
              "      border-radius: 50%;\n",
              "      cursor: pointer;\n",
              "      display: none;\n",
              "      fill: #1967D2;\n",
              "      height: 32px;\n",
              "      padding: 0 0 0 0;\n",
              "      width: 32px;\n",
              "    }\n",
              "\n",
              "    .colab-df-convert:hover {\n",
              "      background-color: #E2EBFA;\n",
              "      box-shadow: 0px 1px 2px rgba(60, 64, 67, 0.3), 0px 1px 3px 1px rgba(60, 64, 67, 0.15);\n",
              "      fill: #174EA6;\n",
              "    }\n",
              "\n",
              "    [theme=dark] .colab-df-convert {\n",
              "      background-color: #3B4455;\n",
              "      fill: #D2E3FC;\n",
              "    }\n",
              "\n",
              "    [theme=dark] .colab-df-convert:hover {\n",
              "      background-color: #434B5C;\n",
              "      box-shadow: 0px 1px 3px 1px rgba(0, 0, 0, 0.15);\n",
              "      filter: drop-shadow(0px 1px 2px rgba(0, 0, 0, 0.3));\n",
              "      fill: #FFFFFF;\n",
              "    }\n",
              "  </style>\n",
              "\n",
              "      <script>\n",
              "        const buttonEl =\n",
              "          document.querySelector('#df-98d6f5f7-4f71-48f1-9463-23a9e113e050 button.colab-df-convert');\n",
              "        buttonEl.style.display =\n",
              "          google.colab.kernel.accessAllowed ? 'block' : 'none';\n",
              "\n",
              "        async function convertToInteractive(key) {\n",
              "          const element = document.querySelector('#df-98d6f5f7-4f71-48f1-9463-23a9e113e050');\n",
              "          const dataTable =\n",
              "            await google.colab.kernel.invokeFunction('convertToInteractive',\n",
              "                                                     [key], {});\n",
              "          if (!dataTable) return;\n",
              "\n",
              "          const docLinkHtml = 'Like what you see? Visit the ' +\n",
              "            '<a target=\"_blank\" href=https://colab.research.google.com/notebooks/data_table.ipynb>data table notebook</a>'\n",
              "            + ' to learn more about interactive tables.';\n",
              "          element.innerHTML = '';\n",
              "          dataTable['output_type'] = 'display_data';\n",
              "          await google.colab.output.renderOutput(dataTable, element);\n",
              "          const docLink = document.createElement('div');\n",
              "          docLink.innerHTML = docLinkHtml;\n",
              "          element.appendChild(docLink);\n",
              "        }\n",
              "      </script>\n",
              "    </div>\n",
              "  </div>\n"
            ]
          },
          "metadata": {},
          "execution_count": 23
        }
      ]
    },
    {
      "cell_type": "code",
      "source": [],
      "metadata": {
        "id": "XGy1oBv2rnBX"
      },
      "execution_count": 23,
      "outputs": []
    },
    {
      "cell_type": "code",
      "source": [
        "cd_all.isnull().sum()"
      ],
      "metadata": {
        "id": "FPY1vOUzrOg0",
        "outputId": "78a77806-ae6d-4742-d082-e1dbd3ad4737",
        "colab": {
          "base_uri": "https://localhost:8080/"
        }
      },
      "execution_count": 24,
      "outputs": [
        {
          "output_type": "execute_result",
          "data": {
            "text/plain": [
              "Id            0\n",
              "Hazard    10200\n",
              "T1_V1         0\n",
              "T1_V2         0\n",
              "T1_V3         0\n",
              "T1_V4         0\n",
              "T1_V5         0\n",
              "T1_V6         0\n",
              "T1_V7         0\n",
              "T1_V8         0\n",
              "T1_V9         0\n",
              "T1_V10        0\n",
              "T1_V11        0\n",
              "T1_V12        0\n",
              "T1_V13        0\n",
              "T1_V14        0\n",
              "T1_V15        0\n",
              "T1_V16        0\n",
              "T1_V17        0\n",
              "T2_V1         0\n",
              "T2_V2         0\n",
              "T2_V3         0\n",
              "T2_V4         0\n",
              "T2_V5         0\n",
              "T2_V6         0\n",
              "T2_V7         0\n",
              "T2_V8         0\n",
              "T2_V9         0\n",
              "T2_V10        0\n",
              "T2_V11        0\n",
              "T2_V12        0\n",
              "T2_V13        0\n",
              "T2_V14        0\n",
              "T2_V15        0\n",
              "data          0\n",
              "dtype: int64"
            ]
          },
          "metadata": {},
          "execution_count": 24
        }
      ]
    },
    {
      "cell_type": "code",
      "source": [
        "cd_all.drop(['Id'],axis=1,inplace=True)"
      ],
      "metadata": {
        "id": "VQeW0y2rrauY"
      },
      "execution_count": 25,
      "outputs": []
    },
    {
      "cell_type": "code",
      "source": [
        "cat_cols=cd_all.select_dtypes(['object']).columns"
      ],
      "metadata": {
        "id": "fou8uUcMsEIe"
      },
      "execution_count": 26,
      "outputs": []
    },
    {
      "cell_type": "code",
      "source": [
        "print(cat_cols)"
      ],
      "metadata": {
        "id": "R4Xw07Ovs52k",
        "outputId": "970f5f72-3294-42e8-b302-7386ac4da800",
        "colab": {
          "base_uri": "https://localhost:8080/"
        }
      },
      "execution_count": 27,
      "outputs": [
        {
          "output_type": "stream",
          "name": "stdout",
          "text": [
            "Index(['T1_V4', 'T1_V5', 'T1_V6', 'T1_V7', 'T1_V8', 'T1_V9', 'T1_V11',\n",
            "       'T1_V12', 'T1_V15', 'T1_V16', 'T1_V17', 'T2_V3', 'T2_V5', 'T2_V11',\n",
            "       'T2_V12', 'T2_V13', 'data'],\n",
            "      dtype='object')\n"
          ]
        }
      ]
    },
    {
      "cell_type": "code",
      "source": [
        "cat_cols=cat_cols[:-1]"
      ],
      "metadata": {
        "id": "jxUA-Waxt7P4"
      },
      "execution_count": 28,
      "outputs": []
    },
    {
      "cell_type": "code",
      "source": [
        "for col in cat_cols:\n",
        "  print('_____',col,'_____')\n",
        "  print(cd_all[col].nunique())\n",
        "  print(cd_all[col].unique())\n",
        "  print(cd_all[col].value_counts())"
      ],
      "metadata": {
        "id": "ibW7rOdgtqVx",
        "outputId": "f3d41e3c-bced-438b-8935-89654d2b2ef7",
        "colab": {
          "base_uri": "https://localhost:8080/"
        }
      },
      "execution_count": 29,
      "outputs": [
        {
          "output_type": "stream",
          "name": "stdout",
          "text": [
            "_____ T1_V4 _____\n",
            "8\n",
            "['N' 'B' 'C' 'W' 'E' 'S' 'G' 'H']\n",
            "N    25112\n",
            "B    12502\n",
            "C     4869\n",
            "W     3480\n",
            "E     2702\n",
            "S     1051\n",
            "G      669\n",
            "H      614\n",
            "Name: T1_V4, dtype: int64\n",
            "_____ T1_V5 _____\n",
            "10\n",
            "['K' 'H' 'C' 'I' 'A' 'B' 'D' 'J' 'E' 'L']\n",
            "K    14138\n",
            "A    10900\n",
            "H    10137\n",
            "C     7845\n",
            "I     4297\n",
            "B     3335\n",
            "J      188\n",
            "D      149\n",
            "E        5\n",
            "L        5\n",
            "Name: T1_V5, dtype: int64\n",
            "_____ T1_V6 _____\n",
            "2\n",
            "['Y' 'N']\n",
            "N    28550\n",
            "Y    22449\n",
            "Name: T1_V6, dtype: int64\n",
            "_____ T1_V7 _____\n",
            "4\n",
            "['B' 'D' 'A' 'C']\n",
            "B    47982\n",
            "D     2126\n",
            "A      546\n",
            "C      345\n",
            "Name: T1_V7, dtype: int64\n",
            "_____ T1_V8 _____\n",
            "4\n",
            "['D' 'B' 'C' 'A']\n",
            "B    46391\n",
            "D     2028\n",
            "C     1547\n",
            "A     1033\n",
            "Name: T1_V8, dtype: int64\n",
            "_____ T1_V9 _____\n",
            "6\n",
            "['E' 'D' 'B' 'F' 'G' 'C']\n",
            "D    23859\n",
            "E    21491\n",
            "B     2748\n",
            "F     2432\n",
            "C      251\n",
            "G      218\n",
            "Name: T1_V9, dtype: int64\n",
            "_____ T1_V11 _____\n",
            "12\n",
            "['H' 'L' 'B' 'N' 'A' 'E' 'J' 'I' 'F' 'K' 'M' 'D']\n",
            "B    17047\n",
            "H    15381\n",
            "L     7003\n",
            "J     6197\n",
            "A     1556\n",
            "I     1364\n",
            "F      544\n",
            "M      541\n",
            "E      450\n",
            "N      419\n",
            "D      258\n",
            "K      239\n",
            "Name: T1_V11, dtype: int64\n",
            "_____ T1_V12 _____\n",
            "4\n",
            "['B' 'A' 'C' 'D']\n",
            "B    46900\n",
            "D     1574\n",
            "C     1395\n",
            "A     1130\n",
            "Name: T1_V12, dtype: int64\n",
            "_____ T1_V15 _____\n",
            "8\n",
            "['A' 'C' 'N' 'W' 'H' 'D' 'S' 'F']\n",
            "A    45680\n",
            "N     1879\n",
            "C     1652\n",
            "D      758\n",
            "H      524\n",
            "W      230\n",
            "S      191\n",
            "F       85\n",
            "Name: T1_V15, dtype: int64\n",
            "_____ T1_V16 _____\n",
            "18\n",
            "['K' 'B' 'I' 'R' 'D' 'A' 'M' 'J' 'O' 'E' 'Q' 'L' 'H' 'N' 'C' 'G' 'P' 'F']\n",
            "I    9331\n",
            "B    8933\n",
            "R    8339\n",
            "K    8159\n",
            "A    2705\n",
            "E    2599\n",
            "J    2410\n",
            "N    2277\n",
            "D    1397\n",
            "M    1264\n",
            "C     808\n",
            "L     729\n",
            "G     484\n",
            "P     459\n",
            "H     408\n",
            "Q     358\n",
            "F     187\n",
            "O     152\n",
            "Name: T1_V16, dtype: int64\n",
            "_____ T1_V17 _____\n",
            "2\n",
            "['N' 'Y']\n",
            "N    41183\n",
            "Y     9816\n",
            "Name: T1_V17, dtype: int64\n",
            "_____ T2_V3 _____\n",
            "2\n",
            "['N' 'Y']\n",
            "N    34548\n",
            "Y    16451\n",
            "Name: T2_V3, dtype: int64\n",
            "_____ T2_V5 _____\n",
            "6\n",
            "['C' 'A' 'B' 'E' 'D' 'F']\n",
            "A    33845\n",
            "B    11201\n",
            "C     5013\n",
            "D      515\n",
            "E      412\n",
            "F       13\n",
            "Name: T2_V5, dtype: int64\n",
            "_____ T2_V11 _____\n",
            "2\n",
            "['Y' 'N']\n",
            "Y    36940\n",
            "N    14059\n",
            "Name: T2_V11, dtype: int64\n",
            "_____ T2_V12 _____\n",
            "2\n",
            "['N' 'Y']\n",
            "N    41703\n",
            "Y     9296\n",
            "Name: T2_V12, dtype: int64\n",
            "_____ T2_V13 _____\n",
            "5\n",
            "['E' 'C' 'D' 'A' 'B']\n",
            "E    27634\n",
            "A    10260\n",
            "C     7507\n",
            "D     5084\n",
            "B      514\n",
            "Name: T2_V13, dtype: int64\n"
          ]
        }
      ]
    },
    {
      "cell_type": "code",
      "source": [
        "for col in cat_cols:\n",
        "  freqs=cd_all[col].value_counts()\n",
        "  k=freqs.index[freqs>200][:-1]\n",
        "  for cat in k:\n",
        "    name=col+'-'+cat\n",
        "    cd_all[name]=(cd_all[col]==cat).astype(int)\n",
        "  del cd_all[col]\n",
        "  print(col)"
      ],
      "metadata": {
        "id": "Qs7w2Q2rurBy",
        "colab": {
          "base_uri": "https://localhost:8080/"
        },
        "outputId": "d89796c7-b243-4eb6-a373-bfb023b580c3"
      },
      "execution_count": 30,
      "outputs": [
        {
          "output_type": "stream",
          "name": "stdout",
          "text": [
            "T1_V4\n",
            "T1_V5\n",
            "T1_V6\n",
            "T1_V7\n",
            "T1_V8\n",
            "T1_V9\n",
            "T1_V11\n",
            "T1_V12\n",
            "T1_V15\n",
            "T1_V16\n",
            "T1_V17\n",
            "T2_V3\n",
            "T2_V5\n",
            "T2_V11\n",
            "T2_V12\n",
            "T2_V13\n"
          ]
        }
      ]
    },
    {
      "cell_type": "code",
      "source": [
        "import math\n",
        "p=math.pi\n",
        "print(p)"
      ],
      "metadata": {
        "colab": {
          "base_uri": "https://localhost:8080/"
        },
        "id": "fMmVLs9_B2yj",
        "outputId": "29418bba-01db-4efc-bff8-00b7556eb845"
      },
      "execution_count": 31,
      "outputs": [
        {
          "output_type": "stream",
          "name": "stdout",
          "text": [
            "3.141592653589793\n"
          ]
        }
      ]
    },
    {
      "cell_type": "code",
      "source": [
        "hour_cols=['T1_V1','T1_V2','T2_V4']\n",
        "for cols in hour_cols:\n",
        "  cd_all[cols+'_sin']=np.sin(2*p*cd_all[cols]/24)\n",
        "  cd_all[cols+'_cos']=np.cos(2*p*cd_all[cols]/24)\n",
        "  del[cols]\n"
      ],
      "metadata": {
        "id": "4uqL17ztA8jc"
      },
      "execution_count": 32,
      "outputs": []
    },
    {
      "cell_type": "code",
      "source": [
        "cd_all.columns"
      ],
      "metadata": {
        "colab": {
          "base_uri": "https://localhost:8080/"
        },
        "id": "zT7PTx4MD8XB",
        "outputId": "b813c3d5-1416-46a7-fbb6-f9481dc7c245"
      },
      "execution_count": 33,
      "outputs": [
        {
          "output_type": "execute_result",
          "data": {
            "text/plain": [
              "Index(['Hazard', 'T1_V1', 'T1_V2', 'T1_V3', 'T1_V10', 'T1_V13', 'T1_V14',\n",
              "       'T2_V1', 'T2_V2', 'T2_V4', 'T2_V6', 'T2_V7', 'T2_V8', 'T2_V9', 'T2_V10',\n",
              "       'T2_V14', 'T2_V15', 'data', 'T1_V4-N', 'T1_V4-B', 'T1_V4-C', 'T1_V4-W',\n",
              "       'T1_V4-E', 'T1_V4-S', 'T1_V4-G', 'T1_V5-K', 'T1_V5-A', 'T1_V5-H',\n",
              "       'T1_V5-C', 'T1_V5-I', 'T1_V6-N', 'T1_V7-B', 'T1_V7-D', 'T1_V7-A',\n",
              "       'T1_V8-B', 'T1_V8-D', 'T1_V8-C', 'T1_V9-D', 'T1_V9-E', 'T1_V9-B',\n",
              "       'T1_V9-F', 'T1_V9-C', 'T1_V11-B', 'T1_V11-H', 'T1_V11-L', 'T1_V11-J',\n",
              "       'T1_V11-A', 'T1_V11-I', 'T1_V11-F', 'T1_V11-M', 'T1_V11-E', 'T1_V11-N',\n",
              "       'T1_V11-D', 'T1_V12-B', 'T1_V12-D', 'T1_V12-C', 'T1_V15-A', 'T1_V15-N',\n",
              "       'T1_V15-C', 'T1_V15-D', 'T1_V15-H', 'T1_V16-I', 'T1_V16-B', 'T1_V16-R',\n",
              "       'T1_V16-K', 'T1_V16-A', 'T1_V16-E', 'T1_V16-J', 'T1_V16-N', 'T1_V16-D',\n",
              "       'T1_V16-M', 'T1_V16-C', 'T1_V16-L', 'T1_V16-G', 'T1_V16-P', 'T1_V16-H',\n",
              "       'T1_V17-N', 'T2_V3-N', 'T2_V5-A', 'T2_V5-B', 'T2_V5-C', 'T2_V5-D',\n",
              "       'T2_V11-Y', 'T2_V12-N', 'T2_V13-E', 'T2_V13-A', 'T2_V13-C', 'T2_V13-D',\n",
              "       'T1_V1_sin', 'T1_V1_cos', 'T1_V2_sin', 'T1_V2_cos', 'T2_V4_sin',\n",
              "       'T2_V4_cos'],\n",
              "      dtype='object')"
            ]
          },
          "metadata": {},
          "execution_count": 33
        }
      ]
    },
    {
      "cell_type": "code",
      "source": [
        "cd_all.drop(['T1_V1','T1_V2','T2_V4'],axis=1,inplace=True)"
      ],
      "metadata": {
        "id": "Jh1OEWHLFHIz"
      },
      "execution_count": 34,
      "outputs": []
    },
    {
      "cell_type": "code",
      "source": [
        "cd_all.columns"
      ],
      "metadata": {
        "colab": {
          "base_uri": "https://localhost:8080/"
        },
        "id": "55hcZng-GM_Z",
        "outputId": "94954c29-0bba-47c8-d303-2e9d8dd0336a"
      },
      "execution_count": 35,
      "outputs": [
        {
          "output_type": "execute_result",
          "data": {
            "text/plain": [
              "Index(['Hazard', 'T1_V3', 'T1_V10', 'T1_V13', 'T1_V14', 'T2_V1', 'T2_V2',\n",
              "       'T2_V6', 'T2_V7', 'T2_V8', 'T2_V9', 'T2_V10', 'T2_V14', 'T2_V15',\n",
              "       'data', 'T1_V4-N', 'T1_V4-B', 'T1_V4-C', 'T1_V4-W', 'T1_V4-E',\n",
              "       'T1_V4-S', 'T1_V4-G', 'T1_V5-K', 'T1_V5-A', 'T1_V5-H', 'T1_V5-C',\n",
              "       'T1_V5-I', 'T1_V6-N', 'T1_V7-B', 'T1_V7-D', 'T1_V7-A', 'T1_V8-B',\n",
              "       'T1_V8-D', 'T1_V8-C', 'T1_V9-D', 'T1_V9-E', 'T1_V9-B', 'T1_V9-F',\n",
              "       'T1_V9-C', 'T1_V11-B', 'T1_V11-H', 'T1_V11-L', 'T1_V11-J', 'T1_V11-A',\n",
              "       'T1_V11-I', 'T1_V11-F', 'T1_V11-M', 'T1_V11-E', 'T1_V11-N', 'T1_V11-D',\n",
              "       'T1_V12-B', 'T1_V12-D', 'T1_V12-C', 'T1_V15-A', 'T1_V15-N', 'T1_V15-C',\n",
              "       'T1_V15-D', 'T1_V15-H', 'T1_V16-I', 'T1_V16-B', 'T1_V16-R', 'T1_V16-K',\n",
              "       'T1_V16-A', 'T1_V16-E', 'T1_V16-J', 'T1_V16-N', 'T1_V16-D', 'T1_V16-M',\n",
              "       'T1_V16-C', 'T1_V16-L', 'T1_V16-G', 'T1_V16-P', 'T1_V16-H', 'T1_V17-N',\n",
              "       'T2_V3-N', 'T2_V5-A', 'T2_V5-B', 'T2_V5-C', 'T2_V5-D', 'T2_V11-Y',\n",
              "       'T2_V12-N', 'T2_V13-E', 'T2_V13-A', 'T2_V13-C', 'T2_V13-D', 'T1_V1_sin',\n",
              "       'T1_V1_cos', 'T1_V2_sin', 'T1_V2_cos', 'T2_V4_sin', 'T2_V4_cos'],\n",
              "      dtype='object')"
            ]
          },
          "metadata": {},
          "execution_count": 35
        }
      ]
    },
    {
      "cell_type": "code",
      "source": [
        "ld_train=cd_all[cd_all['data']=='train']"
      ],
      "metadata": {
        "id": "NSltSGDyGQKZ"
      },
      "execution_count": 36,
      "outputs": []
    },
    {
      "cell_type": "code",
      "source": [
        "del ld_train['data']"
      ],
      "metadata": {
        "id": "oRpur0Py1EM2"
      },
      "execution_count": 37,
      "outputs": []
    },
    {
      "cell_type": "code",
      "source": [
        "ld_test=cd_all[cd_all['data']=='test']"
      ],
      "metadata": {
        "id": "U41GyVBF1KTm"
      },
      "execution_count": 38,
      "outputs": []
    },
    {
      "cell_type": "code",
      "source": [
        "del ld_test['data']"
      ],
      "metadata": {
        "id": "gkmGy5qB1RI4"
      },
      "execution_count": 39,
      "outputs": []
    },
    {
      "cell_type": "code",
      "source": [
        "del ld_test['Hazard']"
      ],
      "metadata": {
        "id": "SquC81Nb1VEO"
      },
      "execution_count": 40,
      "outputs": []
    },
    {
      "cell_type": "code",
      "source": [
        "del cd_all"
      ],
      "metadata": {
        "id": "NLqwhhnR1eAc"
      },
      "execution_count": 41,
      "outputs": []
    },
    {
      "cell_type": "code",
      "source": [
        "from sklearn.model_selection import train_test_split\n",
        "ld_train1,ld_train2=train_test_split(ld_train,train_size=0.8,random_state=2)"
      ],
      "metadata": {
        "id": "h-zPRTrd1i6S"
      },
      "execution_count": 42,
      "outputs": []
    },
    {
      "cell_type": "code",
      "source": [
        "x_train1=ld_train1.drop('Hazard',axis=1)\n",
        "y_train1=ld_train1['Hazard']"
      ],
      "metadata": {
        "id": "59WFZQ1Z2K_C"
      },
      "execution_count": 43,
      "outputs": []
    },
    {
      "cell_type": "code",
      "source": [
        "x_train2=ld_train2.drop('Hazard',axis=1)\n",
        "y_train2=ld_train2['Hazard']"
      ],
      "metadata": {
        "id": "6AbygUxZGgE4"
      },
      "execution_count": 105,
      "outputs": []
    },
    {
      "cell_type": "code",
      "source": [
        "x_train1.shape"
      ],
      "metadata": {
        "colab": {
          "base_uri": "https://localhost:8080/"
        },
        "id": "vQAdL9IC2w5R",
        "outputId": "d0762a80-3421-4197-9795-b4b8cd64175c"
      },
      "execution_count": 44,
      "outputs": [
        {
          "output_type": "execute_result",
          "data": {
            "text/plain": [
              "(32639, 89)"
            ]
          },
          "metadata": {},
          "execution_count": 44
        }
      ]
    },
    {
      "cell_type": "code",
      "source": [
        "y_train1.shape"
      ],
      "metadata": {
        "colab": {
          "base_uri": "https://localhost:8080/"
        },
        "id": "dZ7Lo-nu233p",
        "outputId": "cb2f0e99-36c1-4556-d759-aa5a4db4a98f"
      },
      "execution_count": 45,
      "outputs": [
        {
          "output_type": "execute_result",
          "data": {
            "text/plain": [
              "(32639,)"
            ]
          },
          "metadata": {},
          "execution_count": 45
        }
      ]
    },
    {
      "cell_type": "code",
      "source": [
        "from sklearn.linear_model import LinearRegression\n"
      ],
      "metadata": {
        "id": "_M8CvT2A27op"
      },
      "execution_count": 46,
      "outputs": []
    },
    {
      "cell_type": "code",
      "source": [
        "lm=LinearRegression()"
      ],
      "metadata": {
        "id": "qMwP9rn23UCf"
      },
      "execution_count": 47,
      "outputs": []
    },
    {
      "cell_type": "code",
      "source": [
        "lm.fit(x_train1,y_train1)"
      ],
      "metadata": {
        "colab": {
          "base_uri": "https://localhost:8080/",
          "height": 74
        },
        "id": "BptByAsJ3fvm",
        "outputId": "224d151a-8de8-4bc1-9173-9e3ff8c1d5c7"
      },
      "execution_count": 48,
      "outputs": [
        {
          "output_type": "execute_result",
          "data": {
            "text/plain": [
              "LinearRegression()"
            ],
            "text/html": [
              "<style>#sk-container-id-1 {color: black;background-color: white;}#sk-container-id-1 pre{padding: 0;}#sk-container-id-1 div.sk-toggleable {background-color: white;}#sk-container-id-1 label.sk-toggleable__label {cursor: pointer;display: block;width: 100%;margin-bottom: 0;padding: 0.3em;box-sizing: border-box;text-align: center;}#sk-container-id-1 label.sk-toggleable__label-arrow:before {content: \"▸\";float: left;margin-right: 0.25em;color: #696969;}#sk-container-id-1 label.sk-toggleable__label-arrow:hover:before {color: black;}#sk-container-id-1 div.sk-estimator:hover label.sk-toggleable__label-arrow:before {color: black;}#sk-container-id-1 div.sk-toggleable__content {max-height: 0;max-width: 0;overflow: hidden;text-align: left;background-color: #f0f8ff;}#sk-container-id-1 div.sk-toggleable__content pre {margin: 0.2em;color: black;border-radius: 0.25em;background-color: #f0f8ff;}#sk-container-id-1 input.sk-toggleable__control:checked~div.sk-toggleable__content {max-height: 200px;max-width: 100%;overflow: auto;}#sk-container-id-1 input.sk-toggleable__control:checked~label.sk-toggleable__label-arrow:before {content: \"▾\";}#sk-container-id-1 div.sk-estimator input.sk-toggleable__control:checked~label.sk-toggleable__label {background-color: #d4ebff;}#sk-container-id-1 div.sk-label input.sk-toggleable__control:checked~label.sk-toggleable__label {background-color: #d4ebff;}#sk-container-id-1 input.sk-hidden--visually {border: 0;clip: rect(1px 1px 1px 1px);clip: rect(1px, 1px, 1px, 1px);height: 1px;margin: -1px;overflow: hidden;padding: 0;position: absolute;width: 1px;}#sk-container-id-1 div.sk-estimator {font-family: monospace;background-color: #f0f8ff;border: 1px dotted black;border-radius: 0.25em;box-sizing: border-box;margin-bottom: 0.5em;}#sk-container-id-1 div.sk-estimator:hover {background-color: #d4ebff;}#sk-container-id-1 div.sk-parallel-item::after {content: \"\";width: 100%;border-bottom: 1px solid gray;flex-grow: 1;}#sk-container-id-1 div.sk-label:hover label.sk-toggleable__label {background-color: #d4ebff;}#sk-container-id-1 div.sk-serial::before {content: \"\";position: absolute;border-left: 1px solid gray;box-sizing: border-box;top: 0;bottom: 0;left: 50%;z-index: 0;}#sk-container-id-1 div.sk-serial {display: flex;flex-direction: column;align-items: center;background-color: white;padding-right: 0.2em;padding-left: 0.2em;position: relative;}#sk-container-id-1 div.sk-item {position: relative;z-index: 1;}#sk-container-id-1 div.sk-parallel {display: flex;align-items: stretch;justify-content: center;background-color: white;position: relative;}#sk-container-id-1 div.sk-item::before, #sk-container-id-1 div.sk-parallel-item::before {content: \"\";position: absolute;border-left: 1px solid gray;box-sizing: border-box;top: 0;bottom: 0;left: 50%;z-index: -1;}#sk-container-id-1 div.sk-parallel-item {display: flex;flex-direction: column;z-index: 1;position: relative;background-color: white;}#sk-container-id-1 div.sk-parallel-item:first-child::after {align-self: flex-end;width: 50%;}#sk-container-id-1 div.sk-parallel-item:last-child::after {align-self: flex-start;width: 50%;}#sk-container-id-1 div.sk-parallel-item:only-child::after {width: 0;}#sk-container-id-1 div.sk-dashed-wrapped {border: 1px dashed gray;margin: 0 0.4em 0.5em 0.4em;box-sizing: border-box;padding-bottom: 0.4em;background-color: white;}#sk-container-id-1 div.sk-label label {font-family: monospace;font-weight: bold;display: inline-block;line-height: 1.2em;}#sk-container-id-1 div.sk-label-container {text-align: center;}#sk-container-id-1 div.sk-container {/* jupyter's `normalize.less` sets `[hidden] { display: none; }` but bootstrap.min.css set `[hidden] { display: none !important; }` so we also need the `!important` here to be able to override the default hidden behavior on the sphinx rendered scikit-learn.org. See: https://github.com/scikit-learn/scikit-learn/issues/21755 */display: inline-block !important;position: relative;}#sk-container-id-1 div.sk-text-repr-fallback {display: none;}</style><div id=\"sk-container-id-1\" class=\"sk-top-container\"><div class=\"sk-text-repr-fallback\"><pre>LinearRegression()</pre><b>In a Jupyter environment, please rerun this cell to show the HTML representation or trust the notebook. <br />On GitHub, the HTML representation is unable to render, please try loading this page with nbviewer.org.</b></div><div class=\"sk-container\" hidden><div class=\"sk-item\"><div class=\"sk-estimator sk-toggleable\"><input class=\"sk-toggleable__control sk-hidden--visually\" id=\"sk-estimator-id-1\" type=\"checkbox\" checked><label for=\"sk-estimator-id-1\" class=\"sk-toggleable__label sk-toggleable__label-arrow\">LinearRegression</label><div class=\"sk-toggleable__content\"><pre>LinearRegression()</pre></div></div></div></div></div>"
            ]
          },
          "metadata": {},
          "execution_count": 48
        }
      ]
    },
    {
      "cell_type": "code",
      "source": [
        "lm.intercept_"
      ],
      "metadata": {
        "colab": {
          "base_uri": "https://localhost:8080/"
        },
        "id": "K0iRAFGn81Uw",
        "outputId": "ce2b375a-82da-46d8-99f3-6c3be24f41e7"
      },
      "execution_count": 49,
      "outputs": [
        {
          "output_type": "execute_result",
          "data": {
            "text/plain": [
              "8.66555927375429"
            ]
          },
          "metadata": {},
          "execution_count": 49
        }
      ]
    },
    {
      "cell_type": "code",
      "source": [
        "list(zip(x_train1.columns,lm.coef_))"
      ],
      "metadata": {
        "colab": {
          "base_uri": "https://localhost:8080/"
        },
        "id": "Oi0DRbAUAKP_",
        "outputId": "d5965a99-2745-46ee-ec00-f96d07af33ac"
      },
      "execution_count": 50,
      "outputs": [
        {
          "output_type": "execute_result",
          "data": {
            "text/plain": [
              "[('T1_V3', 0.11469209651567637),\n",
              " ('T1_V10', -0.002400554503292569),\n",
              " ('T1_V13', 0.0016679516227013358),\n",
              " ('T1_V14', -0.14740533503636147),\n",
              " ('T2_V1', -0.010391004175700894),\n",
              " ('T2_V2', -0.020620215539818625),\n",
              " ('T2_V6', -0.0488902061037792),\n",
              " ('T2_V7', -0.0002687573276921318),\n",
              " ('T2_V8', -0.20255769963621437),\n",
              " ('T2_V9', -0.02304740074789574),\n",
              " ('T2_V10', -0.0126002886570417),\n",
              " ('T2_V14', 0.09591753146570424),\n",
              " ('T2_V15', 0.07391427504001441),\n",
              " ('T1_V4-N', -0.21974946900797865),\n",
              " ('T1_V4-B', -0.6693553056218309),\n",
              " ('T1_V4-C', -1.1029355582871916),\n",
              " ('T1_V4-W', -0.1325563109908754),\n",
              " ('T1_V4-E', -0.43050544503754484),\n",
              " ('T1_V4-S', -0.5466347993175563),\n",
              " ('T1_V4-G', -0.9903242685413497),\n",
              " ('T1_V5-K', -0.11630854086128295),\n",
              " ('T1_V5-A', -0.33938043179438027),\n",
              " ('T1_V5-H', -0.33019252294849377),\n",
              " ('T1_V5-C', -0.37956754330402714),\n",
              " ('T1_V5-I', -0.3939484406404897),\n",
              " ('T1_V6-N', -0.03339287510394462),\n",
              " ('T1_V7-B', -2.466719155516216),\n",
              " ('T1_V7-D', -2.4943079425899355),\n",
              " ('T1_V7-A', -2.7195194104515465),\n",
              " ('T1_V8-B', -0.16053251919723455),\n",
              " ('T1_V8-D', -0.12426349411039167),\n",
              " ('T1_V8-C', 3.4117220884516204),\n",
              " ('T1_V9-D', -0.019551008749499665),\n",
              " ('T1_V9-E', 0.252204915493563),\n",
              " ('T1_V9-B', -0.20445751689855243),\n",
              " ('T1_V9-F', 0.23089322248232716),\n",
              " ('T1_V9-C', -0.05989536263896844),\n",
              " ('T1_V11-B', -0.23796039074032838),\n",
              " ('T1_V11-H', 0.22170447511243518),\n",
              " ('T1_V11-L', -0.03282594178691341),\n",
              " ('T1_V11-J', 0.08839545978082153),\n",
              " ('T1_V11-A', -0.2878424868338282),\n",
              " ('T1_V11-I', 0.04985741530637222),\n",
              " ('T1_V11-F', -0.568657994001185),\n",
              " ('T1_V11-M', 0.697198149353566),\n",
              " ('T1_V11-E', 0.5531551310969878),\n",
              " ('T1_V11-N', 0.31224410540841907),\n",
              " ('T1_V11-D', 0.29022779397924114),\n",
              " ('T1_V12-B', 0.11979304620066075),\n",
              " ('T1_V12-D', -0.064713453067823),\n",
              " ('T1_V12-C', 2.381502105166951),\n",
              " ('T1_V15-A', 0.23756792871939258),\n",
              " ('T1_V15-N', -0.45918339804473474),\n",
              " ('T1_V15-C', 0.8939375356338346),\n",
              " ('T1_V15-D', -0.3135073123789045),\n",
              " ('T1_V15-H', -0.4722304061085416),\n",
              " ('T1_V16-I', 0.00032334339565764925),\n",
              " ('T1_V16-B', -0.4815300326044828),\n",
              " ('T1_V16-R', -0.011486638395191706),\n",
              " ('T1_V16-K', -0.03017939624457),\n",
              " ('T1_V16-A', -0.5919889097519767),\n",
              " ('T1_V16-E', -0.02137142312166035),\n",
              " ('T1_V16-J', 0.039330849561435344),\n",
              " ('T1_V16-N', -0.021896896405727145),\n",
              " ('T1_V16-D', 0.05843530865638699),\n",
              " ('T1_V16-M', -0.139222168369154),\n",
              " ('T1_V16-C', -0.15886496311870443),\n",
              " ('T1_V16-L', -0.1514955534749975),\n",
              " ('T1_V16-G', 0.18028318874752758),\n",
              " ('T1_V16-P', 0.06853355477139444),\n",
              " ('T1_V16-H', -0.03835522644986804),\n",
              " ('T1_V17-N', -0.041673171419079),\n",
              " ('T2_V3-N', 0.01594736047951628),\n",
              " ('T2_V5-A', -0.6934495255172572),\n",
              " ('T2_V5-B', -0.8243482338442125),\n",
              " ('T2_V5-C', -0.5331840954835796),\n",
              " ('T2_V5-D', -0.11558565627298617),\n",
              " ('T2_V11-Y', -0.136021269739798),\n",
              " ('T2_V12-N', 0.08020102613317355),\n",
              " ('T2_V13-E', -0.21188652731365987),\n",
              " ('T2_V13-A', -0.6075746895558786),\n",
              " ('T2_V13-C', -0.22572285681417936),\n",
              " ('T2_V13-D', -0.12925423861123742),\n",
              " ('T1_V1_sin', 0.036030045514166664),\n",
              " ('T1_V1_cos', 0.24360686278843557),\n",
              " ('T1_V2_sin', -0.32395451498201355),\n",
              " ('T1_V2_cos', 0.13147249003362038),\n",
              " ('T2_V4_sin', 0.13402119829779122),\n",
              " ('T2_V4_cos', -0.31880489259363987)]"
            ]
          },
          "metadata": {},
          "execution_count": 50
        }
      ]
    },
    {
      "cell_type": "code",
      "source": [
        "x_train2=ld_train2.drop('Hazard',axis=1)\n"
      ],
      "metadata": {
        "id": "CGaq_bDMArzY"
      },
      "execution_count": 51,
      "outputs": []
    },
    {
      "cell_type": "code",
      "source": [
        "predicted_ir=lm.predict(x_train2)"
      ],
      "metadata": {
        "id": "4GB4bZ4OBSnc"
      },
      "execution_count": 52,
      "outputs": []
    },
    {
      "cell_type": "code",
      "source": [
        "print(predicted_ir)"
      ],
      "metadata": {
        "colab": {
          "base_uri": "https://localhost:8080/"
        },
        "id": "04HXfsE_Bcgo",
        "outputId": "5130c051-5c91-47fa-ec63-b150545175cd"
      },
      "execution_count": 53,
      "outputs": [
        {
          "output_type": "stream",
          "name": "stdout",
          "text": [
            "[3.64956321 2.43052985 3.7688481  ... 5.02801877 7.75978377 5.44444498]\n"
          ]
        }
      ]
    },
    {
      "cell_type": "code",
      "source": [
        "from sklearn.metrics import mean_absolute_error"
      ],
      "metadata": {
        "id": "CFAP3ZVuBmc6"
      },
      "execution_count": 54,
      "outputs": []
    },
    {
      "cell_type": "code",
      "source": [
        "mean_absolute_error(ld_train2['Hazard'],predicted_ir)"
      ],
      "metadata": {
        "colab": {
          "base_uri": "https://localhost:8080/"
        },
        "id": "nvvFys9UBzxK",
        "outputId": "00bfc1fe-672c-4adf-a1c9-fbf3dcbb6ec7"
      },
      "execution_count": 55,
      "outputs": [
        {
          "output_type": "execute_result",
          "data": {
            "text/plain": [
              "2.7444951558007897"
            ]
          },
          "metadata": {},
          "execution_count": 55
        }
      ]
    },
    {
      "cell_type": "code",
      "source": [
        "from sklearn.linear_model import Ridge,Lasso\n",
        "from sklearn.model_selection import GridSearchCV"
      ],
      "metadata": {
        "id": "lsK2FNPJCCuR"
      },
      "execution_count": 56,
      "outputs": []
    },
    {
      "cell_type": "code",
      "source": [
        "lambdas=np.linspace(1,100,100)"
      ],
      "metadata": {
        "id": "NGa5A3rfTmb-"
      },
      "execution_count": 57,
      "outputs": []
    },
    {
      "cell_type": "code",
      "source": [
        "lambdas"
      ],
      "metadata": {
        "id": "A73HIdlITrka",
        "outputId": "e293cbd4-78af-41f6-8afc-d153ae99a144",
        "colab": {
          "base_uri": "https://localhost:8080/"
        }
      },
      "execution_count": 58,
      "outputs": [
        {
          "output_type": "execute_result",
          "data": {
            "text/plain": [
              "array([  1.,   2.,   3.,   4.,   5.,   6.,   7.,   8.,   9.,  10.,  11.,\n",
              "        12.,  13.,  14.,  15.,  16.,  17.,  18.,  19.,  20.,  21.,  22.,\n",
              "        23.,  24.,  25.,  26.,  27.,  28.,  29.,  30.,  31.,  32.,  33.,\n",
              "        34.,  35.,  36.,  37.,  38.,  39.,  40.,  41.,  42.,  43.,  44.,\n",
              "        45.,  46.,  47.,  48.,  49.,  50.,  51.,  52.,  53.,  54.,  55.,\n",
              "        56.,  57.,  58.,  59.,  60.,  61.,  62.,  63.,  64.,  65.,  66.,\n",
              "        67.,  68.,  69.,  70.,  71.,  72.,  73.,  74.,  75.,  76.,  77.,\n",
              "        78.,  79.,  80.,  81.,  82.,  83.,  84.,  85.,  86.,  87.,  88.,\n",
              "        89.,  90.,  91.,  92.,  93.,  94.,  95.,  96.,  97.,  98.,  99.,\n",
              "       100.])"
            ]
          },
          "metadata": {},
          "execution_count": 58
        }
      ]
    },
    {
      "cell_type": "code",
      "source": [
        "params={'alpha':lambdas}"
      ],
      "metadata": {
        "id": "le7EKr05TtFj"
      },
      "execution_count": 59,
      "outputs": []
    },
    {
      "cell_type": "code",
      "source": [
        "model=Ridge(fit_intercept=True)"
      ],
      "metadata": {
        "id": "GZQwxlW9UCvd"
      },
      "execution_count": 60,
      "outputs": []
    },
    {
      "cell_type": "code",
      "source": [
        "grid_search=GridSearchCV(model,\n",
        "                         param_grid=params,\n",
        "                         cv=10,\n",
        "                         scoring='neg_mean_absolute_error',\n",
        "                         verbose=20)"
      ],
      "metadata": {
        "id": "eTnqzP5bULpF"
      },
      "execution_count": 61,
      "outputs": []
    },
    {
      "cell_type": "code",
      "source": [
        "grid_search.best_estimator_"
      ],
      "metadata": {
        "id": "VUv7DMQKU3HE"
      },
      "execution_count": null,
      "outputs": []
    },
    {
      "cell_type": "code",
      "source": [
        "grid_search.cv_results_"
      ],
      "metadata": {
        "id": "12QHWP9mVeso"
      },
      "execution_count": null,
      "outputs": []
    },
    {
      "cell_type": "code",
      "source": [
        "def report(results, n_top=3):\n",
        "    for i in range(1, n_top + 1):\n",
        "        candidates = np.flatnonzero(results['rank_test_score'] == i)\n",
        "        for candidate in candidates:\n",
        "            print(\"Model with rank: {0}\".format(i))\n",
        "            print(\"Mean validation score: {0:.6f} (std: {1:.6f})\".format(\n",
        "                  results['mean_test_score'][candidate],\n",
        "                  results['std_test_score'][candidate]))\n",
        "            print(\"Parameters: {0}\".format(results['params'][candidate]))\n",
        "            print(\"\")"
      ],
      "metadata": {
        "id": "L1sd-sTkYHnl"
      },
      "execution_count": null,
      "outputs": []
    },
    {
      "cell_type": "code",
      "source": [
        "report(grid_search.cv_results_,5)"
      ],
      "metadata": {
        "id": "GfK-jwfYYJ2Q"
      },
      "execution_count": null,
      "outputs": []
    },
    {
      "cell_type": "code",
      "source": [
        "predicted_haz=grid_search.predict(x_train2)"
      ],
      "metadata": {
        "id": "huv_a88rYSzF"
      },
      "execution_count": null,
      "outputs": []
    },
    {
      "cell_type": "code",
      "source": [
        "predicted_haz"
      ],
      "metadata": {
        "id": "xDoBolkXYmts"
      },
      "execution_count": null,
      "outputs": []
    },
    {
      "cell_type": "code",
      "source": [
        "mean_absolute_error(ld_train2['Hazard'],predicted_haz)"
      ],
      "metadata": {
        "id": "Y3XrgBZ5Yq8B"
      },
      "execution_count": null,
      "outputs": []
    },
    {
      "cell_type": "code",
      "source": [
        "lambdas=np.linspace(1,3,100)\n",
        "\n",
        "model=Lasso(fit_intercept=True)\n",
        "\n",
        "params={'alpha':lambdas}"
      ],
      "metadata": {
        "id": "n_5We9cKZofO"
      },
      "execution_count": null,
      "outputs": []
    },
    {
      "cell_type": "code",
      "source": [
        "grid_search=GridSearchCV(model,\n",
        "                         param_grid=params,\n",
        "                         cv=10,\n",
        "                         scoring='neg_mean_absolute_error',\n",
        "                        verbose=20,n_jobs=-1)"
      ],
      "metadata": {
        "id": "5bExDyJLakAQ"
      },
      "execution_count": null,
      "outputs": []
    },
    {
      "cell_type": "code",
      "source": [
        "grid_search.fit(x_train1,y_train1)"
      ],
      "metadata": {
        "colab": {
          "base_uri": "https://localhost:8080/",
          "height": 115
        },
        "id": "tvSEkhBZaqIo",
        "outputId": "c7babb37-ef53-40cc-9ee9-5d62b011f548"
      },
      "execution_count": 72,
      "outputs": [
        {
          "output_type": "execute_result",
          "data": {
            "text/plain": [
              "GridSearchCV(cv=10, estimator=Lasso(), n_jobs=-1,\n",
              "             param_grid={'alpha': array([1.        , 1.02020202, 1.04040404, 1.06060606, 1.08080808,\n",
              "       1.1010101 , 1.12121212, 1.14141414, 1.16161616, 1.18181818,\n",
              "       1.2020202 , 1.22222222, 1.24242424, 1.26262626, 1.28282828,\n",
              "       1.3030303 , 1.32323232, 1.34343434, 1.36363636, 1.38383838,\n",
              "       1.4040404 , 1.42424242, 1.44444444, 1.46464646, 1.48484848,\n",
              "       1.50505051, 1....\n",
              "       2.41414141, 2.43434343, 2.45454545, 2.47474747, 2.49494949,\n",
              "       2.51515152, 2.53535354, 2.55555556, 2.57575758, 2.5959596 ,\n",
              "       2.61616162, 2.63636364, 2.65656566, 2.67676768, 2.6969697 ,\n",
              "       2.71717172, 2.73737374, 2.75757576, 2.77777778, 2.7979798 ,\n",
              "       2.81818182, 2.83838384, 2.85858586, 2.87878788, 2.8989899 ,\n",
              "       2.91919192, 2.93939394, 2.95959596, 2.97979798, 3.        ])},\n",
              "             scoring='neg_mean_absolute_error', verbose=20)"
            ],
            "text/html": [
              "<style>#sk-container-id-4 {color: black;background-color: white;}#sk-container-id-4 pre{padding: 0;}#sk-container-id-4 div.sk-toggleable {background-color: white;}#sk-container-id-4 label.sk-toggleable__label {cursor: pointer;display: block;width: 100%;margin-bottom: 0;padding: 0.3em;box-sizing: border-box;text-align: center;}#sk-container-id-4 label.sk-toggleable__label-arrow:before {content: \"▸\";float: left;margin-right: 0.25em;color: #696969;}#sk-container-id-4 label.sk-toggleable__label-arrow:hover:before {color: black;}#sk-container-id-4 div.sk-estimator:hover label.sk-toggleable__label-arrow:before {color: black;}#sk-container-id-4 div.sk-toggleable__content {max-height: 0;max-width: 0;overflow: hidden;text-align: left;background-color: #f0f8ff;}#sk-container-id-4 div.sk-toggleable__content pre {margin: 0.2em;color: black;border-radius: 0.25em;background-color: #f0f8ff;}#sk-container-id-4 input.sk-toggleable__control:checked~div.sk-toggleable__content {max-height: 200px;max-width: 100%;overflow: auto;}#sk-container-id-4 input.sk-toggleable__control:checked~label.sk-toggleable__label-arrow:before {content: \"▾\";}#sk-container-id-4 div.sk-estimator input.sk-toggleable__control:checked~label.sk-toggleable__label {background-color: #d4ebff;}#sk-container-id-4 div.sk-label input.sk-toggleable__control:checked~label.sk-toggleable__label {background-color: #d4ebff;}#sk-container-id-4 input.sk-hidden--visually {border: 0;clip: rect(1px 1px 1px 1px);clip: rect(1px, 1px, 1px, 1px);height: 1px;margin: -1px;overflow: hidden;padding: 0;position: absolute;width: 1px;}#sk-container-id-4 div.sk-estimator {font-family: monospace;background-color: #f0f8ff;border: 1px dotted black;border-radius: 0.25em;box-sizing: border-box;margin-bottom: 0.5em;}#sk-container-id-4 div.sk-estimator:hover {background-color: #d4ebff;}#sk-container-id-4 div.sk-parallel-item::after {content: \"\";width: 100%;border-bottom: 1px solid gray;flex-grow: 1;}#sk-container-id-4 div.sk-label:hover label.sk-toggleable__label {background-color: #d4ebff;}#sk-container-id-4 div.sk-serial::before {content: \"\";position: absolute;border-left: 1px solid gray;box-sizing: border-box;top: 0;bottom: 0;left: 50%;z-index: 0;}#sk-container-id-4 div.sk-serial {display: flex;flex-direction: column;align-items: center;background-color: white;padding-right: 0.2em;padding-left: 0.2em;position: relative;}#sk-container-id-4 div.sk-item {position: relative;z-index: 1;}#sk-container-id-4 div.sk-parallel {display: flex;align-items: stretch;justify-content: center;background-color: white;position: relative;}#sk-container-id-4 div.sk-item::before, #sk-container-id-4 div.sk-parallel-item::before {content: \"\";position: absolute;border-left: 1px solid gray;box-sizing: border-box;top: 0;bottom: 0;left: 50%;z-index: -1;}#sk-container-id-4 div.sk-parallel-item {display: flex;flex-direction: column;z-index: 1;position: relative;background-color: white;}#sk-container-id-4 div.sk-parallel-item:first-child::after {align-self: flex-end;width: 50%;}#sk-container-id-4 div.sk-parallel-item:last-child::after {align-self: flex-start;width: 50%;}#sk-container-id-4 div.sk-parallel-item:only-child::after {width: 0;}#sk-container-id-4 div.sk-dashed-wrapped {border: 1px dashed gray;margin: 0 0.4em 0.5em 0.4em;box-sizing: border-box;padding-bottom: 0.4em;background-color: white;}#sk-container-id-4 div.sk-label label {font-family: monospace;font-weight: bold;display: inline-block;line-height: 1.2em;}#sk-container-id-4 div.sk-label-container {text-align: center;}#sk-container-id-4 div.sk-container {/* jupyter's `normalize.less` sets `[hidden] { display: none; }` but bootstrap.min.css set `[hidden] { display: none !important; }` so we also need the `!important` here to be able to override the default hidden behavior on the sphinx rendered scikit-learn.org. See: https://github.com/scikit-learn/scikit-learn/issues/21755 */display: inline-block !important;position: relative;}#sk-container-id-4 div.sk-text-repr-fallback {display: none;}</style><div id=\"sk-container-id-4\" class=\"sk-top-container\"><div class=\"sk-text-repr-fallback\"><pre>GridSearchCV(cv=10, estimator=Lasso(), n_jobs=-1,\n",
              "             param_grid={&#x27;alpha&#x27;: array([1.        , 1.02020202, 1.04040404, 1.06060606, 1.08080808,\n",
              "       1.1010101 , 1.12121212, 1.14141414, 1.16161616, 1.18181818,\n",
              "       1.2020202 , 1.22222222, 1.24242424, 1.26262626, 1.28282828,\n",
              "       1.3030303 , 1.32323232, 1.34343434, 1.36363636, 1.38383838,\n",
              "       1.4040404 , 1.42424242, 1.44444444, 1.46464646, 1.48484848,\n",
              "       1.50505051, 1....\n",
              "       2.41414141, 2.43434343, 2.45454545, 2.47474747, 2.49494949,\n",
              "       2.51515152, 2.53535354, 2.55555556, 2.57575758, 2.5959596 ,\n",
              "       2.61616162, 2.63636364, 2.65656566, 2.67676768, 2.6969697 ,\n",
              "       2.71717172, 2.73737374, 2.75757576, 2.77777778, 2.7979798 ,\n",
              "       2.81818182, 2.83838384, 2.85858586, 2.87878788, 2.8989899 ,\n",
              "       2.91919192, 2.93939394, 2.95959596, 2.97979798, 3.        ])},\n",
              "             scoring=&#x27;neg_mean_absolute_error&#x27;, verbose=20)</pre><b>In a Jupyter environment, please rerun this cell to show the HTML representation or trust the notebook. <br />On GitHub, the HTML representation is unable to render, please try loading this page with nbviewer.org.</b></div><div class=\"sk-container\" hidden><div class=\"sk-item sk-dashed-wrapped\"><div class=\"sk-label-container\"><div class=\"sk-label sk-toggleable\"><input class=\"sk-toggleable__control sk-hidden--visually\" id=\"sk-estimator-id-6\" type=\"checkbox\" ><label for=\"sk-estimator-id-6\" class=\"sk-toggleable__label sk-toggleable__label-arrow\">GridSearchCV</label><div class=\"sk-toggleable__content\"><pre>GridSearchCV(cv=10, estimator=Lasso(), n_jobs=-1,\n",
              "             param_grid={&#x27;alpha&#x27;: array([1.        , 1.02020202, 1.04040404, 1.06060606, 1.08080808,\n",
              "       1.1010101 , 1.12121212, 1.14141414, 1.16161616, 1.18181818,\n",
              "       1.2020202 , 1.22222222, 1.24242424, 1.26262626, 1.28282828,\n",
              "       1.3030303 , 1.32323232, 1.34343434, 1.36363636, 1.38383838,\n",
              "       1.4040404 , 1.42424242, 1.44444444, 1.46464646, 1.48484848,\n",
              "       1.50505051, 1....\n",
              "       2.41414141, 2.43434343, 2.45454545, 2.47474747, 2.49494949,\n",
              "       2.51515152, 2.53535354, 2.55555556, 2.57575758, 2.5959596 ,\n",
              "       2.61616162, 2.63636364, 2.65656566, 2.67676768, 2.6969697 ,\n",
              "       2.71717172, 2.73737374, 2.75757576, 2.77777778, 2.7979798 ,\n",
              "       2.81818182, 2.83838384, 2.85858586, 2.87878788, 2.8989899 ,\n",
              "       2.91919192, 2.93939394, 2.95959596, 2.97979798, 3.        ])},\n",
              "             scoring=&#x27;neg_mean_absolute_error&#x27;, verbose=20)</pre></div></div></div><div class=\"sk-parallel\"><div class=\"sk-parallel-item\"><div class=\"sk-item\"><div class=\"sk-label-container\"><div class=\"sk-label sk-toggleable\"><input class=\"sk-toggleable__control sk-hidden--visually\" id=\"sk-estimator-id-7\" type=\"checkbox\" ><label for=\"sk-estimator-id-7\" class=\"sk-toggleable__label sk-toggleable__label-arrow\">estimator: Lasso</label><div class=\"sk-toggleable__content\"><pre>Lasso()</pre></div></div></div><div class=\"sk-serial\"><div class=\"sk-item\"><div class=\"sk-estimator sk-toggleable\"><input class=\"sk-toggleable__control sk-hidden--visually\" id=\"sk-estimator-id-8\" type=\"checkbox\" ><label for=\"sk-estimator-id-8\" class=\"sk-toggleable__label sk-toggleable__label-arrow\">Lasso</label><div class=\"sk-toggleable__content\"><pre>Lasso()</pre></div></div></div></div></div></div></div></div></div></div>"
            ]
          },
          "metadata": {},
          "execution_count": 72
        }
      ]
    },
    {
      "cell_type": "code",
      "source": [
        "grid_search.best_estimator_"
      ],
      "metadata": {
        "colab": {
          "base_uri": "https://localhost:8080/",
          "height": 74
        },
        "id": "DvVMRrjfazi3",
        "outputId": "7f7f64ee-3acc-4a94-8c4f-146f92a05d55"
      },
      "execution_count": 73,
      "outputs": [
        {
          "output_type": "execute_result",
          "data": {
            "text/plain": [
              "Lasso(alpha=2.393939393939394)"
            ],
            "text/html": [
              "<style>#sk-container-id-5 {color: black;background-color: white;}#sk-container-id-5 pre{padding: 0;}#sk-container-id-5 div.sk-toggleable {background-color: white;}#sk-container-id-5 label.sk-toggleable__label {cursor: pointer;display: block;width: 100%;margin-bottom: 0;padding: 0.3em;box-sizing: border-box;text-align: center;}#sk-container-id-5 label.sk-toggleable__label-arrow:before {content: \"▸\";float: left;margin-right: 0.25em;color: #696969;}#sk-container-id-5 label.sk-toggleable__label-arrow:hover:before {color: black;}#sk-container-id-5 div.sk-estimator:hover label.sk-toggleable__label-arrow:before {color: black;}#sk-container-id-5 div.sk-toggleable__content {max-height: 0;max-width: 0;overflow: hidden;text-align: left;background-color: #f0f8ff;}#sk-container-id-5 div.sk-toggleable__content pre {margin: 0.2em;color: black;border-radius: 0.25em;background-color: #f0f8ff;}#sk-container-id-5 input.sk-toggleable__control:checked~div.sk-toggleable__content {max-height: 200px;max-width: 100%;overflow: auto;}#sk-container-id-5 input.sk-toggleable__control:checked~label.sk-toggleable__label-arrow:before {content: \"▾\";}#sk-container-id-5 div.sk-estimator input.sk-toggleable__control:checked~label.sk-toggleable__label {background-color: #d4ebff;}#sk-container-id-5 div.sk-label input.sk-toggleable__control:checked~label.sk-toggleable__label {background-color: #d4ebff;}#sk-container-id-5 input.sk-hidden--visually {border: 0;clip: rect(1px 1px 1px 1px);clip: rect(1px, 1px, 1px, 1px);height: 1px;margin: -1px;overflow: hidden;padding: 0;position: absolute;width: 1px;}#sk-container-id-5 div.sk-estimator {font-family: monospace;background-color: #f0f8ff;border: 1px dotted black;border-radius: 0.25em;box-sizing: border-box;margin-bottom: 0.5em;}#sk-container-id-5 div.sk-estimator:hover {background-color: #d4ebff;}#sk-container-id-5 div.sk-parallel-item::after {content: \"\";width: 100%;border-bottom: 1px solid gray;flex-grow: 1;}#sk-container-id-5 div.sk-label:hover label.sk-toggleable__label {background-color: #d4ebff;}#sk-container-id-5 div.sk-serial::before {content: \"\";position: absolute;border-left: 1px solid gray;box-sizing: border-box;top: 0;bottom: 0;left: 50%;z-index: 0;}#sk-container-id-5 div.sk-serial {display: flex;flex-direction: column;align-items: center;background-color: white;padding-right: 0.2em;padding-left: 0.2em;position: relative;}#sk-container-id-5 div.sk-item {position: relative;z-index: 1;}#sk-container-id-5 div.sk-parallel {display: flex;align-items: stretch;justify-content: center;background-color: white;position: relative;}#sk-container-id-5 div.sk-item::before, #sk-container-id-5 div.sk-parallel-item::before {content: \"\";position: absolute;border-left: 1px solid gray;box-sizing: border-box;top: 0;bottom: 0;left: 50%;z-index: -1;}#sk-container-id-5 div.sk-parallel-item {display: flex;flex-direction: column;z-index: 1;position: relative;background-color: white;}#sk-container-id-5 div.sk-parallel-item:first-child::after {align-self: flex-end;width: 50%;}#sk-container-id-5 div.sk-parallel-item:last-child::after {align-self: flex-start;width: 50%;}#sk-container-id-5 div.sk-parallel-item:only-child::after {width: 0;}#sk-container-id-5 div.sk-dashed-wrapped {border: 1px dashed gray;margin: 0 0.4em 0.5em 0.4em;box-sizing: border-box;padding-bottom: 0.4em;background-color: white;}#sk-container-id-5 div.sk-label label {font-family: monospace;font-weight: bold;display: inline-block;line-height: 1.2em;}#sk-container-id-5 div.sk-label-container {text-align: center;}#sk-container-id-5 div.sk-container {/* jupyter's `normalize.less` sets `[hidden] { display: none; }` but bootstrap.min.css set `[hidden] { display: none !important; }` so we also need the `!important` here to be able to override the default hidden behavior on the sphinx rendered scikit-learn.org. See: https://github.com/scikit-learn/scikit-learn/issues/21755 */display: inline-block !important;position: relative;}#sk-container-id-5 div.sk-text-repr-fallback {display: none;}</style><div id=\"sk-container-id-5\" class=\"sk-top-container\"><div class=\"sk-text-repr-fallback\"><pre>Lasso(alpha=2.393939393939394)</pre><b>In a Jupyter environment, please rerun this cell to show the HTML representation or trust the notebook. <br />On GitHub, the HTML representation is unable to render, please try loading this page with nbviewer.org.</b></div><div class=\"sk-container\" hidden><div class=\"sk-item\"><div class=\"sk-estimator sk-toggleable\"><input class=\"sk-toggleable__control sk-hidden--visually\" id=\"sk-estimator-id-9\" type=\"checkbox\" checked><label for=\"sk-estimator-id-9\" class=\"sk-toggleable__label sk-toggleable__label-arrow\">Lasso</label><div class=\"sk-toggleable__content\"><pre>Lasso(alpha=2.393939393939394)</pre></div></div></div></div></div>"
            ]
          },
          "metadata": {},
          "execution_count": 73
        }
      ]
    },
    {
      "cell_type": "code",
      "source": [
        "report(grid_search.cv_results_,5)"
      ],
      "metadata": {
        "id": "N2gIe4zHbpeG",
        "outputId": "94e7384a-0e24-4af7-b510-777c77a02bab",
        "colab": {
          "base_uri": "https://localhost:8080/"
        }
      },
      "execution_count": 74,
      "outputs": [
        {
          "output_type": "stream",
          "name": "stdout",
          "text": [
            "Model with rank: 1\n",
            "Mean validation score: -2.815063 (std: 0.042074)\n",
            "Parameters: {'alpha': 2.393939393939394}\n",
            "\n",
            "Model with rank: 1\n",
            "Mean validation score: -2.815063 (std: 0.042074)\n",
            "Parameters: {'alpha': 2.4141414141414144}\n",
            "\n",
            "Model with rank: 1\n",
            "Mean validation score: -2.815063 (std: 0.042074)\n",
            "Parameters: {'alpha': 2.4343434343434343}\n",
            "\n",
            "Model with rank: 1\n",
            "Mean validation score: -2.815063 (std: 0.042074)\n",
            "Parameters: {'alpha': 2.4545454545454546}\n",
            "\n",
            "Model with rank: 1\n",
            "Mean validation score: -2.815063 (std: 0.042074)\n",
            "Parameters: {'alpha': 2.474747474747475}\n",
            "\n",
            "Model with rank: 1\n",
            "Mean validation score: -2.815063 (std: 0.042074)\n",
            "Parameters: {'alpha': 2.494949494949495}\n",
            "\n",
            "Model with rank: 1\n",
            "Mean validation score: -2.815063 (std: 0.042074)\n",
            "Parameters: {'alpha': 2.5151515151515156}\n",
            "\n",
            "Model with rank: 1\n",
            "Mean validation score: -2.815063 (std: 0.042074)\n",
            "Parameters: {'alpha': 2.5353535353535355}\n",
            "\n",
            "Model with rank: 1\n",
            "Mean validation score: -2.815063 (std: 0.042074)\n",
            "Parameters: {'alpha': 2.5555555555555554}\n",
            "\n",
            "Model with rank: 1\n",
            "Mean validation score: -2.815063 (std: 0.042074)\n",
            "Parameters: {'alpha': 2.575757575757576}\n",
            "\n",
            "Model with rank: 1\n",
            "Mean validation score: -2.815063 (std: 0.042074)\n",
            "Parameters: {'alpha': 2.595959595959596}\n",
            "\n",
            "Model with rank: 1\n",
            "Mean validation score: -2.815063 (std: 0.042074)\n",
            "Parameters: {'alpha': 2.6161616161616164}\n",
            "\n",
            "Model with rank: 1\n",
            "Mean validation score: -2.815063 (std: 0.042074)\n",
            "Parameters: {'alpha': 2.6363636363636367}\n",
            "\n",
            "Model with rank: 1\n",
            "Mean validation score: -2.815063 (std: 0.042074)\n",
            "Parameters: {'alpha': 2.6565656565656566}\n",
            "\n",
            "Model with rank: 1\n",
            "Mean validation score: -2.815063 (std: 0.042074)\n",
            "Parameters: {'alpha': 2.676767676767677}\n",
            "\n",
            "Model with rank: 1\n",
            "Mean validation score: -2.815063 (std: 0.042074)\n",
            "Parameters: {'alpha': 2.6969696969696972}\n",
            "\n",
            "Model with rank: 1\n",
            "Mean validation score: -2.815063 (std: 0.042074)\n",
            "Parameters: {'alpha': 2.717171717171717}\n",
            "\n",
            "Model with rank: 1\n",
            "Mean validation score: -2.815063 (std: 0.042074)\n",
            "Parameters: {'alpha': 2.7373737373737375}\n",
            "\n",
            "Model with rank: 1\n",
            "Mean validation score: -2.815063 (std: 0.042074)\n",
            "Parameters: {'alpha': 2.757575757575758}\n",
            "\n",
            "Model with rank: 1\n",
            "Mean validation score: -2.815063 (std: 0.042074)\n",
            "Parameters: {'alpha': 2.7777777777777777}\n",
            "\n",
            "Model with rank: 1\n",
            "Mean validation score: -2.815063 (std: 0.042074)\n",
            "Parameters: {'alpha': 2.7979797979797985}\n",
            "\n",
            "Model with rank: 1\n",
            "Mean validation score: -2.815063 (std: 0.042074)\n",
            "Parameters: {'alpha': 2.8181818181818183}\n",
            "\n",
            "Model with rank: 1\n",
            "Mean validation score: -2.815063 (std: 0.042074)\n",
            "Parameters: {'alpha': 2.8383838383838382}\n",
            "\n",
            "Model with rank: 1\n",
            "Mean validation score: -2.815063 (std: 0.042074)\n",
            "Parameters: {'alpha': 2.858585858585859}\n",
            "\n",
            "Model with rank: 1\n",
            "Mean validation score: -2.815063 (std: 0.042074)\n",
            "Parameters: {'alpha': 2.878787878787879}\n",
            "\n",
            "Model with rank: 1\n",
            "Mean validation score: -2.815063 (std: 0.042074)\n",
            "Parameters: {'alpha': 2.8989898989898992}\n",
            "\n",
            "Model with rank: 1\n",
            "Mean validation score: -2.815063 (std: 0.042074)\n",
            "Parameters: {'alpha': 2.9191919191919196}\n",
            "\n",
            "Model with rank: 1\n",
            "Mean validation score: -2.815063 (std: 0.042074)\n",
            "Parameters: {'alpha': 2.9393939393939394}\n",
            "\n",
            "Model with rank: 1\n",
            "Mean validation score: -2.815063 (std: 0.042074)\n",
            "Parameters: {'alpha': 2.95959595959596}\n",
            "\n",
            "Model with rank: 1\n",
            "Mean validation score: -2.815063 (std: 0.042074)\n",
            "Parameters: {'alpha': 2.97979797979798}\n",
            "\n",
            "Model with rank: 1\n",
            "Mean validation score: -2.815063 (std: 0.042074)\n",
            "Parameters: {'alpha': 3.0}\n",
            "\n"
          ]
        }
      ]
    },
    {
      "cell_type": "code",
      "source": [
        "lasso_model=grid_search.best_estimator_"
      ],
      "metadata": {
        "id": "EmvQqUtJb-WN"
      },
      "execution_count": 75,
      "outputs": []
    },
    {
      "cell_type": "code",
      "source": [
        "lasso_model.fit(x_train1,y_train1)"
      ],
      "metadata": {
        "id": "JbJwZaVFcfPo",
        "outputId": "596699a2-6cc0-4efd-9524-a41ff358d61d",
        "colab": {
          "base_uri": "https://localhost:8080/",
          "height": 74
        }
      },
      "execution_count": 76,
      "outputs": [
        {
          "output_type": "execute_result",
          "data": {
            "text/plain": [
              "Lasso(alpha=2.393939393939394)"
            ],
            "text/html": [
              "<style>#sk-container-id-6 {color: black;background-color: white;}#sk-container-id-6 pre{padding: 0;}#sk-container-id-6 div.sk-toggleable {background-color: white;}#sk-container-id-6 label.sk-toggleable__label {cursor: pointer;display: block;width: 100%;margin-bottom: 0;padding: 0.3em;box-sizing: border-box;text-align: center;}#sk-container-id-6 label.sk-toggleable__label-arrow:before {content: \"▸\";float: left;margin-right: 0.25em;color: #696969;}#sk-container-id-6 label.sk-toggleable__label-arrow:hover:before {color: black;}#sk-container-id-6 div.sk-estimator:hover label.sk-toggleable__label-arrow:before {color: black;}#sk-container-id-6 div.sk-toggleable__content {max-height: 0;max-width: 0;overflow: hidden;text-align: left;background-color: #f0f8ff;}#sk-container-id-6 div.sk-toggleable__content pre {margin: 0.2em;color: black;border-radius: 0.25em;background-color: #f0f8ff;}#sk-container-id-6 input.sk-toggleable__control:checked~div.sk-toggleable__content {max-height: 200px;max-width: 100%;overflow: auto;}#sk-container-id-6 input.sk-toggleable__control:checked~label.sk-toggleable__label-arrow:before {content: \"▾\";}#sk-container-id-6 div.sk-estimator input.sk-toggleable__control:checked~label.sk-toggleable__label {background-color: #d4ebff;}#sk-container-id-6 div.sk-label input.sk-toggleable__control:checked~label.sk-toggleable__label {background-color: #d4ebff;}#sk-container-id-6 input.sk-hidden--visually {border: 0;clip: rect(1px 1px 1px 1px);clip: rect(1px, 1px, 1px, 1px);height: 1px;margin: -1px;overflow: hidden;padding: 0;position: absolute;width: 1px;}#sk-container-id-6 div.sk-estimator {font-family: monospace;background-color: #f0f8ff;border: 1px dotted black;border-radius: 0.25em;box-sizing: border-box;margin-bottom: 0.5em;}#sk-container-id-6 div.sk-estimator:hover {background-color: #d4ebff;}#sk-container-id-6 div.sk-parallel-item::after {content: \"\";width: 100%;border-bottom: 1px solid gray;flex-grow: 1;}#sk-container-id-6 div.sk-label:hover label.sk-toggleable__label {background-color: #d4ebff;}#sk-container-id-6 div.sk-serial::before {content: \"\";position: absolute;border-left: 1px solid gray;box-sizing: border-box;top: 0;bottom: 0;left: 50%;z-index: 0;}#sk-container-id-6 div.sk-serial {display: flex;flex-direction: column;align-items: center;background-color: white;padding-right: 0.2em;padding-left: 0.2em;position: relative;}#sk-container-id-6 div.sk-item {position: relative;z-index: 1;}#sk-container-id-6 div.sk-parallel {display: flex;align-items: stretch;justify-content: center;background-color: white;position: relative;}#sk-container-id-6 div.sk-item::before, #sk-container-id-6 div.sk-parallel-item::before {content: \"\";position: absolute;border-left: 1px solid gray;box-sizing: border-box;top: 0;bottom: 0;left: 50%;z-index: -1;}#sk-container-id-6 div.sk-parallel-item {display: flex;flex-direction: column;z-index: 1;position: relative;background-color: white;}#sk-container-id-6 div.sk-parallel-item:first-child::after {align-self: flex-end;width: 50%;}#sk-container-id-6 div.sk-parallel-item:last-child::after {align-self: flex-start;width: 50%;}#sk-container-id-6 div.sk-parallel-item:only-child::after {width: 0;}#sk-container-id-6 div.sk-dashed-wrapped {border: 1px dashed gray;margin: 0 0.4em 0.5em 0.4em;box-sizing: border-box;padding-bottom: 0.4em;background-color: white;}#sk-container-id-6 div.sk-label label {font-family: monospace;font-weight: bold;display: inline-block;line-height: 1.2em;}#sk-container-id-6 div.sk-label-container {text-align: center;}#sk-container-id-6 div.sk-container {/* jupyter's `normalize.less` sets `[hidden] { display: none; }` but bootstrap.min.css set `[hidden] { display: none !important; }` so we also need the `!important` here to be able to override the default hidden behavior on the sphinx rendered scikit-learn.org. See: https://github.com/scikit-learn/scikit-learn/issues/21755 */display: inline-block !important;position: relative;}#sk-container-id-6 div.sk-text-repr-fallback {display: none;}</style><div id=\"sk-container-id-6\" class=\"sk-top-container\"><div class=\"sk-text-repr-fallback\"><pre>Lasso(alpha=2.393939393939394)</pre><b>In a Jupyter environment, please rerun this cell to show the HTML representation or trust the notebook. <br />On GitHub, the HTML representation is unable to render, please try loading this page with nbviewer.org.</b></div><div class=\"sk-container\" hidden><div class=\"sk-item\"><div class=\"sk-estimator sk-toggleable\"><input class=\"sk-toggleable__control sk-hidden--visually\" id=\"sk-estimator-id-10\" type=\"checkbox\" checked><label for=\"sk-estimator-id-10\" class=\"sk-toggleable__label sk-toggleable__label-arrow\">Lasso</label><div class=\"sk-toggleable__content\"><pre>Lasso(alpha=2.393939393939394)</pre></div></div></div></div></div>"
            ]
          },
          "metadata": {},
          "execution_count": 76
        }
      ]
    },
    {
      "cell_type": "code",
      "source": [
        "lasso_model.intercept_"
      ],
      "metadata": {
        "id": "uCSVswjucmgP",
        "outputId": "80ea4c62-d08e-4b55-95d8-84be194a7dab",
        "colab": {
          "base_uri": "https://localhost:8080/"
        }
      },
      "execution_count": 77,
      "outputs": [
        {
          "output_type": "execute_result",
          "data": {
            "text/plain": [
              "4.006679126198719"
            ]
          },
          "metadata": {},
          "execution_count": 77
        }
      ]
    },
    {
      "cell_type": "code",
      "source": [
        "predict_hazard_lasso=lasso_model.predict(x_train2)"
      ],
      "metadata": {
        "id": "lq_BknYKcsto"
      },
      "execution_count": 78,
      "outputs": []
    },
    {
      "cell_type": "code",
      "source": [
        "mean_absolute_error(ld_train2['Hazard'],predict_hazard_lasso)"
      ],
      "metadata": {
        "id": "0i4tRJysdUMM",
        "outputId": "c6c9a3c4-9eee-4a7d-b8f9-e4203a53b2c2",
        "colab": {
          "base_uri": "https://localhost:8080/"
        }
      },
      "execution_count": 79,
      "outputs": [
        {
          "output_type": "execute_result",
          "data": {
            "text/plain": [
              "2.821298872424364"
            ]
          },
          "metadata": {},
          "execution_count": 79
        }
      ]
    },
    {
      "cell_type": "code",
      "source": [
        "predict_hazard_lasso"
      ],
      "metadata": {
        "id": "t67tOc9iei6N",
        "outputId": "9ce03708-c4fe-439a-86b4-1c982b7f0482",
        "colab": {
          "base_uri": "https://localhost:8080/"
        }
      },
      "execution_count": 80,
      "outputs": [
        {
          "output_type": "execute_result",
          "data": {
            "text/plain": [
              "array([4.00667913, 4.00667913, 4.00667913, ..., 4.00667913, 4.00667913,\n",
              "       4.00667913])"
            ]
          },
          "metadata": {},
          "execution_count": 80
        }
      ]
    },
    {
      "cell_type": "code",
      "source": [
        "from sklearn.model_selection import RandomizedSearchCV\n",
        "from sklearn.ensemble import GradientBoostingRegressor\n",
        "from xgboost.sklearn import XGBRegressor"
      ],
      "metadata": {
        "id": "n_pHvScqepfw"
      },
      "execution_count": 86,
      "outputs": []
    },
    {
      "cell_type": "code",
      "source": [
        "gbm_params={'n_estimators':[50,100,200,500,700], #number of decision trees\n",
        "           'learning_rate': [0.01,.05,0.1,0.4,0.8,1], #eta\n",
        "            'max_depth':[1,2,3,4,5,6], # levels of tree\n",
        "            'min_samples_split':[2,5,10,20],\n",
        "            'min_samples_leaf':[2,5,10,20],\n",
        "            'subsample':[0.5,0.8,1],\n",
        "            'max_features':[5,10,15,20,30,45,55,65]\n",
        "           }"
      ],
      "metadata": {
        "id": "zE8lD3nz9XwF"
      },
      "execution_count": 87,
      "outputs": []
    },
    {
      "cell_type": "code",
      "source": [
        "gbm=GradientBoostingRegressor()"
      ],
      "metadata": {
        "id": "68nFG6Tn9ugp"
      },
      "execution_count": 88,
      "outputs": []
    },
    {
      "cell_type": "code",
      "source": [
        "random_search=RandomizedSearchCV(gbm,\n",
        "                                 scoring='neg_mean_absolute_error',\n",
        "                                 param_distributions=gbm_params,\n",
        "                                 cv=10,\n",
        "                                 n_iter=10,\n",
        "                                 n_jobs=-1,\n",
        "                                verbose=20)"
      ],
      "metadata": {
        "id": "TWc2EGpd97Iq"
      },
      "execution_count": 90,
      "outputs": []
    },
    {
      "cell_type": "code",
      "source": [
        "random_search.fit(x_train1,y_train1)"
      ],
      "metadata": {
        "id": "dk_KiNV6-M37",
        "outputId": "e4ccae48-f3cc-4864-8d7f-20c7d4fccb61",
        "colab": {
          "base_uri": "https://localhost:8080/",
          "height": 156
        }
      },
      "execution_count": 91,
      "outputs": [
        {
          "output_type": "stream",
          "name": "stdout",
          "text": [
            "Fitting 10 folds for each of 10 candidates, totalling 100 fits\n"
          ]
        },
        {
          "output_type": "execute_result",
          "data": {
            "text/plain": [
              "RandomizedSearchCV(cv=10, estimator=GradientBoostingRegressor(), n_jobs=-1,\n",
              "                   param_distributions={'learning_rate': [0.01, 0.05, 0.1, 0.4,\n",
              "                                                          0.8, 1],\n",
              "                                        'max_depth': [1, 2, 3, 4, 5, 6],\n",
              "                                        'max_features': [5, 10, 15, 20, 30, 45,\n",
              "                                                         55, 65],\n",
              "                                        'min_samples_leaf': [2, 5, 10, 20],\n",
              "                                        'min_samples_split': [2, 5, 10, 20],\n",
              "                                        'n_estimators': [50, 100, 200, 500,\n",
              "                                                         700],\n",
              "                                        'subsample': [0.5, 0.8, 1]},\n",
              "                   scoring='neg_mean_absolute_error', verbose=20)"
            ],
            "text/html": [
              "<style>#sk-container-id-7 {color: black;background-color: white;}#sk-container-id-7 pre{padding: 0;}#sk-container-id-7 div.sk-toggleable {background-color: white;}#sk-container-id-7 label.sk-toggleable__label {cursor: pointer;display: block;width: 100%;margin-bottom: 0;padding: 0.3em;box-sizing: border-box;text-align: center;}#sk-container-id-7 label.sk-toggleable__label-arrow:before {content: \"▸\";float: left;margin-right: 0.25em;color: #696969;}#sk-container-id-7 label.sk-toggleable__label-arrow:hover:before {color: black;}#sk-container-id-7 div.sk-estimator:hover label.sk-toggleable__label-arrow:before {color: black;}#sk-container-id-7 div.sk-toggleable__content {max-height: 0;max-width: 0;overflow: hidden;text-align: left;background-color: #f0f8ff;}#sk-container-id-7 div.sk-toggleable__content pre {margin: 0.2em;color: black;border-radius: 0.25em;background-color: #f0f8ff;}#sk-container-id-7 input.sk-toggleable__control:checked~div.sk-toggleable__content {max-height: 200px;max-width: 100%;overflow: auto;}#sk-container-id-7 input.sk-toggleable__control:checked~label.sk-toggleable__label-arrow:before {content: \"▾\";}#sk-container-id-7 div.sk-estimator input.sk-toggleable__control:checked~label.sk-toggleable__label {background-color: #d4ebff;}#sk-container-id-7 div.sk-label input.sk-toggleable__control:checked~label.sk-toggleable__label {background-color: #d4ebff;}#sk-container-id-7 input.sk-hidden--visually {border: 0;clip: rect(1px 1px 1px 1px);clip: rect(1px, 1px, 1px, 1px);height: 1px;margin: -1px;overflow: hidden;padding: 0;position: absolute;width: 1px;}#sk-container-id-7 div.sk-estimator {font-family: monospace;background-color: #f0f8ff;border: 1px dotted black;border-radius: 0.25em;box-sizing: border-box;margin-bottom: 0.5em;}#sk-container-id-7 div.sk-estimator:hover {background-color: #d4ebff;}#sk-container-id-7 div.sk-parallel-item::after {content: \"\";width: 100%;border-bottom: 1px solid gray;flex-grow: 1;}#sk-container-id-7 div.sk-label:hover label.sk-toggleable__label {background-color: #d4ebff;}#sk-container-id-7 div.sk-serial::before {content: \"\";position: absolute;border-left: 1px solid gray;box-sizing: border-box;top: 0;bottom: 0;left: 50%;z-index: 0;}#sk-container-id-7 div.sk-serial {display: flex;flex-direction: column;align-items: center;background-color: white;padding-right: 0.2em;padding-left: 0.2em;position: relative;}#sk-container-id-7 div.sk-item {position: relative;z-index: 1;}#sk-container-id-7 div.sk-parallel {display: flex;align-items: stretch;justify-content: center;background-color: white;position: relative;}#sk-container-id-7 div.sk-item::before, #sk-container-id-7 div.sk-parallel-item::before {content: \"\";position: absolute;border-left: 1px solid gray;box-sizing: border-box;top: 0;bottom: 0;left: 50%;z-index: -1;}#sk-container-id-7 div.sk-parallel-item {display: flex;flex-direction: column;z-index: 1;position: relative;background-color: white;}#sk-container-id-7 div.sk-parallel-item:first-child::after {align-self: flex-end;width: 50%;}#sk-container-id-7 div.sk-parallel-item:last-child::after {align-self: flex-start;width: 50%;}#sk-container-id-7 div.sk-parallel-item:only-child::after {width: 0;}#sk-container-id-7 div.sk-dashed-wrapped {border: 1px dashed gray;margin: 0 0.4em 0.5em 0.4em;box-sizing: border-box;padding-bottom: 0.4em;background-color: white;}#sk-container-id-7 div.sk-label label {font-family: monospace;font-weight: bold;display: inline-block;line-height: 1.2em;}#sk-container-id-7 div.sk-label-container {text-align: center;}#sk-container-id-7 div.sk-container {/* jupyter's `normalize.less` sets `[hidden] { display: none; }` but bootstrap.min.css set `[hidden] { display: none !important; }` so we also need the `!important` here to be able to override the default hidden behavior on the sphinx rendered scikit-learn.org. See: https://github.com/scikit-learn/scikit-learn/issues/21755 */display: inline-block !important;position: relative;}#sk-container-id-7 div.sk-text-repr-fallback {display: none;}</style><div id=\"sk-container-id-7\" class=\"sk-top-container\"><div class=\"sk-text-repr-fallback\"><pre>RandomizedSearchCV(cv=10, estimator=GradientBoostingRegressor(), n_jobs=-1,\n",
              "                   param_distributions={&#x27;learning_rate&#x27;: [0.01, 0.05, 0.1, 0.4,\n",
              "                                                          0.8, 1],\n",
              "                                        &#x27;max_depth&#x27;: [1, 2, 3, 4, 5, 6],\n",
              "                                        &#x27;max_features&#x27;: [5, 10, 15, 20, 30, 45,\n",
              "                                                         55, 65],\n",
              "                                        &#x27;min_samples_leaf&#x27;: [2, 5, 10, 20],\n",
              "                                        &#x27;min_samples_split&#x27;: [2, 5, 10, 20],\n",
              "                                        &#x27;n_estimators&#x27;: [50, 100, 200, 500,\n",
              "                                                         700],\n",
              "                                        &#x27;subsample&#x27;: [0.5, 0.8, 1]},\n",
              "                   scoring=&#x27;neg_mean_absolute_error&#x27;, verbose=20)</pre><b>In a Jupyter environment, please rerun this cell to show the HTML representation or trust the notebook. <br />On GitHub, the HTML representation is unable to render, please try loading this page with nbviewer.org.</b></div><div class=\"sk-container\" hidden><div class=\"sk-item sk-dashed-wrapped\"><div class=\"sk-label-container\"><div class=\"sk-label sk-toggleable\"><input class=\"sk-toggleable__control sk-hidden--visually\" id=\"sk-estimator-id-11\" type=\"checkbox\" ><label for=\"sk-estimator-id-11\" class=\"sk-toggleable__label sk-toggleable__label-arrow\">RandomizedSearchCV</label><div class=\"sk-toggleable__content\"><pre>RandomizedSearchCV(cv=10, estimator=GradientBoostingRegressor(), n_jobs=-1,\n",
              "                   param_distributions={&#x27;learning_rate&#x27;: [0.01, 0.05, 0.1, 0.4,\n",
              "                                                          0.8, 1],\n",
              "                                        &#x27;max_depth&#x27;: [1, 2, 3, 4, 5, 6],\n",
              "                                        &#x27;max_features&#x27;: [5, 10, 15, 20, 30, 45,\n",
              "                                                         55, 65],\n",
              "                                        &#x27;min_samples_leaf&#x27;: [2, 5, 10, 20],\n",
              "                                        &#x27;min_samples_split&#x27;: [2, 5, 10, 20],\n",
              "                                        &#x27;n_estimators&#x27;: [50, 100, 200, 500,\n",
              "                                                         700],\n",
              "                                        &#x27;subsample&#x27;: [0.5, 0.8, 1]},\n",
              "                   scoring=&#x27;neg_mean_absolute_error&#x27;, verbose=20)</pre></div></div></div><div class=\"sk-parallel\"><div class=\"sk-parallel-item\"><div class=\"sk-item\"><div class=\"sk-label-container\"><div class=\"sk-label sk-toggleable\"><input class=\"sk-toggleable__control sk-hidden--visually\" id=\"sk-estimator-id-12\" type=\"checkbox\" ><label for=\"sk-estimator-id-12\" class=\"sk-toggleable__label sk-toggleable__label-arrow\">estimator: GradientBoostingRegressor</label><div class=\"sk-toggleable__content\"><pre>GradientBoostingRegressor()</pre></div></div></div><div class=\"sk-serial\"><div class=\"sk-item\"><div class=\"sk-estimator sk-toggleable\"><input class=\"sk-toggleable__control sk-hidden--visually\" id=\"sk-estimator-id-13\" type=\"checkbox\" ><label for=\"sk-estimator-id-13\" class=\"sk-toggleable__label sk-toggleable__label-arrow\">GradientBoostingRegressor</label><div class=\"sk-toggleable__content\"><pre>GradientBoostingRegressor()</pre></div></div></div></div></div></div></div></div></div></div>"
            ]
          },
          "metadata": {},
          "execution_count": 91
        }
      ]
    },
    {
      "cell_type": "code",
      "source": [
        "def report(results, n_top=3):\n",
        "    for i in range(1, n_top + 1):\n",
        "        candidates = np.flatnonzero(results['rank_test_score'] == i)\n",
        "        for candidate in candidates:\n",
        "            print(\"Model with rank: {0}\".format(i))\n",
        "            print(\"Mean validation score: {0:.6f} (std: {1:.6f})\".format(\n",
        "                  results['mean_test_score'][candidate],\n",
        "                  results['std_test_score'][candidate]))\n",
        "            print(\"Parameters: {0}\".format(results['params'][candidate]))\n",
        "            print(\"\")"
      ],
      "metadata": {
        "id": "9tTS9HoUEdCu"
      },
      "execution_count": 94,
      "outputs": []
    },
    {
      "cell_type": "code",
      "source": [
        "report(random_search.cv_results_,5)"
      ],
      "metadata": {
        "id": "-CY267UD-WGA",
        "outputId": "b8d60b61-debb-4030-df40-b391192951be",
        "colab": {
          "base_uri": "https://localhost:8080/"
        }
      },
      "execution_count": 97,
      "outputs": [
        {
          "output_type": "stream",
          "name": "stdout",
          "text": [
            "Model with rank: 1\n",
            "Mean validation score: -2.704038 (std: 0.039223)\n",
            "Parameters: {'subsample': 1, 'n_estimators': 500, 'min_samples_split': 2, 'min_samples_leaf': 5, 'max_features': 5, 'max_depth': 3, 'learning_rate': 0.1}\n",
            "\n",
            "Model with rank: 2\n",
            "Mean validation score: -2.715056 (std: 0.039473)\n",
            "Parameters: {'subsample': 0.5, 'n_estimators': 700, 'min_samples_split': 20, 'min_samples_leaf': 10, 'max_features': 45, 'max_depth': 5, 'learning_rate': 0.05}\n",
            "\n",
            "Model with rank: 3\n",
            "Mean validation score: -2.721337 (std: 0.043354)\n",
            "Parameters: {'subsample': 1, 'n_estimators': 700, 'min_samples_split': 10, 'min_samples_leaf': 5, 'max_features': 30, 'max_depth': 1, 'learning_rate': 1}\n",
            "\n",
            "Model with rank: 4\n",
            "Mean validation score: -2.727268 (std: 0.042245)\n",
            "Parameters: {'subsample': 0.8, 'n_estimators': 500, 'min_samples_split': 5, 'min_samples_leaf': 2, 'max_features': 20, 'max_depth': 1, 'learning_rate': 1}\n",
            "\n",
            "Model with rank: 5\n",
            "Mean validation score: -2.731983 (std: 0.039691)\n",
            "Parameters: {'subsample': 0.5, 'n_estimators': 50, 'min_samples_split': 20, 'min_samples_leaf': 10, 'max_features': 65, 'max_depth': 5, 'learning_rate': 0.05}\n",
            "\n"
          ]
        }
      ]
    },
    {
      "cell_type": "code",
      "source": [
        "random_search.best_estimator_"
      ],
      "metadata": {
        "id": "S44yoDlsDlac",
        "outputId": "bc2747de-5919-49e4-a43f-c48304dc50e5",
        "colab": {
          "base_uri": "https://localhost:8080/",
          "height": 111
        }
      },
      "execution_count": 98,
      "outputs": [
        {
          "output_type": "execute_result",
          "data": {
            "text/plain": [
              "GradientBoostingRegressor(max_features=5, min_samples_leaf=5, n_estimators=500,\n",
              "                          subsample=1)"
            ],
            "text/html": [
              "<style>#sk-container-id-8 {color: black;background-color: white;}#sk-container-id-8 pre{padding: 0;}#sk-container-id-8 div.sk-toggleable {background-color: white;}#sk-container-id-8 label.sk-toggleable__label {cursor: pointer;display: block;width: 100%;margin-bottom: 0;padding: 0.3em;box-sizing: border-box;text-align: center;}#sk-container-id-8 label.sk-toggleable__label-arrow:before {content: \"▸\";float: left;margin-right: 0.25em;color: #696969;}#sk-container-id-8 label.sk-toggleable__label-arrow:hover:before {color: black;}#sk-container-id-8 div.sk-estimator:hover label.sk-toggleable__label-arrow:before {color: black;}#sk-container-id-8 div.sk-toggleable__content {max-height: 0;max-width: 0;overflow: hidden;text-align: left;background-color: #f0f8ff;}#sk-container-id-8 div.sk-toggleable__content pre {margin: 0.2em;color: black;border-radius: 0.25em;background-color: #f0f8ff;}#sk-container-id-8 input.sk-toggleable__control:checked~div.sk-toggleable__content {max-height: 200px;max-width: 100%;overflow: auto;}#sk-container-id-8 input.sk-toggleable__control:checked~label.sk-toggleable__label-arrow:before {content: \"▾\";}#sk-container-id-8 div.sk-estimator input.sk-toggleable__control:checked~label.sk-toggleable__label {background-color: #d4ebff;}#sk-container-id-8 div.sk-label input.sk-toggleable__control:checked~label.sk-toggleable__label {background-color: #d4ebff;}#sk-container-id-8 input.sk-hidden--visually {border: 0;clip: rect(1px 1px 1px 1px);clip: rect(1px, 1px, 1px, 1px);height: 1px;margin: -1px;overflow: hidden;padding: 0;position: absolute;width: 1px;}#sk-container-id-8 div.sk-estimator {font-family: monospace;background-color: #f0f8ff;border: 1px dotted black;border-radius: 0.25em;box-sizing: border-box;margin-bottom: 0.5em;}#sk-container-id-8 div.sk-estimator:hover {background-color: #d4ebff;}#sk-container-id-8 div.sk-parallel-item::after {content: \"\";width: 100%;border-bottom: 1px solid gray;flex-grow: 1;}#sk-container-id-8 div.sk-label:hover label.sk-toggleable__label {background-color: #d4ebff;}#sk-container-id-8 div.sk-serial::before {content: \"\";position: absolute;border-left: 1px solid gray;box-sizing: border-box;top: 0;bottom: 0;left: 50%;z-index: 0;}#sk-container-id-8 div.sk-serial {display: flex;flex-direction: column;align-items: center;background-color: white;padding-right: 0.2em;padding-left: 0.2em;position: relative;}#sk-container-id-8 div.sk-item {position: relative;z-index: 1;}#sk-container-id-8 div.sk-parallel {display: flex;align-items: stretch;justify-content: center;background-color: white;position: relative;}#sk-container-id-8 div.sk-item::before, #sk-container-id-8 div.sk-parallel-item::before {content: \"\";position: absolute;border-left: 1px solid gray;box-sizing: border-box;top: 0;bottom: 0;left: 50%;z-index: -1;}#sk-container-id-8 div.sk-parallel-item {display: flex;flex-direction: column;z-index: 1;position: relative;background-color: white;}#sk-container-id-8 div.sk-parallel-item:first-child::after {align-self: flex-end;width: 50%;}#sk-container-id-8 div.sk-parallel-item:last-child::after {align-self: flex-start;width: 50%;}#sk-container-id-8 div.sk-parallel-item:only-child::after {width: 0;}#sk-container-id-8 div.sk-dashed-wrapped {border: 1px dashed gray;margin: 0 0.4em 0.5em 0.4em;box-sizing: border-box;padding-bottom: 0.4em;background-color: white;}#sk-container-id-8 div.sk-label label {font-family: monospace;font-weight: bold;display: inline-block;line-height: 1.2em;}#sk-container-id-8 div.sk-label-container {text-align: center;}#sk-container-id-8 div.sk-container {/* jupyter's `normalize.less` sets `[hidden] { display: none; }` but bootstrap.min.css set `[hidden] { display: none !important; }` so we also need the `!important` here to be able to override the default hidden behavior on the sphinx rendered scikit-learn.org. See: https://github.com/scikit-learn/scikit-learn/issues/21755 */display: inline-block !important;position: relative;}#sk-container-id-8 div.sk-text-repr-fallback {display: none;}</style><div id=\"sk-container-id-8\" class=\"sk-top-container\"><div class=\"sk-text-repr-fallback\"><pre>GradientBoostingRegressor(max_features=5, min_samples_leaf=5, n_estimators=500,\n",
              "                          subsample=1)</pre><b>In a Jupyter environment, please rerun this cell to show the HTML representation or trust the notebook. <br />On GitHub, the HTML representation is unable to render, please try loading this page with nbviewer.org.</b></div><div class=\"sk-container\" hidden><div class=\"sk-item\"><div class=\"sk-estimator sk-toggleable\"><input class=\"sk-toggleable__control sk-hidden--visually\" id=\"sk-estimator-id-14\" type=\"checkbox\" checked><label for=\"sk-estimator-id-14\" class=\"sk-toggleable__label sk-toggleable__label-arrow\">GradientBoostingRegressor</label><div class=\"sk-toggleable__content\"><pre>GradientBoostingRegressor(max_features=5, min_samples_leaf=5, n_estimators=500,\n",
              "                          subsample=1)</pre></div></div></div></div></div>"
            ]
          },
          "metadata": {},
          "execution_count": 98
        }
      ]
    },
    {
      "cell_type": "code",
      "source": [
        "GBR=random_search.best_estimator_"
      ],
      "metadata": {
        "id": "fHVJcWXyEwar"
      },
      "execution_count": 106,
      "outputs": []
    },
    {
      "cell_type": "code",
      "source": [
        "predict_GBR=GBR.predict(x_train2)"
      ],
      "metadata": {
        "id": "E1qXW_nFFMuA"
      },
      "execution_count": 107,
      "outputs": []
    },
    {
      "cell_type": "code",
      "source": [
        "mean_absolute_error(y_train2,predict_GBR)"
      ],
      "metadata": {
        "id": "ZTOx9bFKFSlB",
        "outputId": "ef42396e-d7c3-4935-9b85-f447026a94e2",
        "colab": {
          "base_uri": "https://localhost:8080/"
        }
      },
      "execution_count": 108,
      "outputs": [
        {
          "output_type": "execute_result",
          "data": {
            "text/plain": [
              "2.7182091343098294"
            ]
          },
          "metadata": {},
          "execution_count": 108
        }
      ]
    },
    {
      "cell_type": "code",
      "source": [
        "predict_GBR_test=GBR.predict(ld_test)"
      ],
      "metadata": {
        "id": "OGA-LuVaGP_A"
      },
      "execution_count": 109,
      "outputs": []
    },
    {
      "cell_type": "code",
      "source": [
        "pd.DataFrame(predict_GBR_test).to_csv(\"Project4_submission.csv\",index=False)"
      ],
      "metadata": {
        "id": "xnR2oFWuHi69"
      },
      "execution_count": 110,
      "outputs": []
    },
    {
      "cell_type": "code",
      "source": [],
      "metadata": {
        "id": "-XFm7KpEIwGX"
      },
      "execution_count": null,
      "outputs": []
    }
  ]
}